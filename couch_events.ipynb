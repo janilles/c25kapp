{
  "nbformat": 4,
  "nbformat_minor": 0,
  "metadata": {
    "colab": {
      "name": "couch_events.ipynb",
      "version": "0.3.2",
      "provenance": [],
      "collapsed_sections": [],
      "toc_visible": true,
      "include_colab_link": true
    },
    "kernelspec": {
      "name": "python3",
      "display_name": "Python 3"
    },
    "accelerator": "GPU"
  },
  "cells": [
    {
      "cell_type": "markdown",
      "metadata": {
        "id": "view-in-github",
        "colab_type": "text"
      },
      "source": [
        "<a href=\"https://colab.research.google.com/github/janilles/couch/blob/master/couch_events.ipynb\" target=\"_parent\"><img src=\"https://colab.research.google.com/assets/colab-badge.svg\" alt=\"Open In Colab\"/></a>"
      ]
    },
    {
      "cell_type": "markdown",
      "metadata": {
        "id": "g8HkPW_ps6gJ",
        "colab_type": "text"
      },
      "source": [
        "# Boilerplate"
      ]
    },
    {
      "cell_type": "code",
      "metadata": {
        "id": "VjQn5aaIit2-",
        "colab_type": "code",
        "colab": {}
      },
      "source": [
        "# added -q for suppressing output\n",
        "!pip install -q -U pymysql\n",
        "\n",
        "import pymysql\n",
        "import pandas as pd\n",
        "import altair as alt\n"
      ],
      "execution_count": 0,
      "outputs": []
    },
    {
      "cell_type": "markdown",
      "metadata": {
        "id": "nYWwIhzh-vax",
        "colab_type": "text"
      },
      "source": [
        "# Database connection\n",
        "\n"
      ]
    },
    {
      "cell_type": "code",
      "metadata": {
        "id": "eCEEfGBHiyQV",
        "colab_type": "code",
        "colab": {}
      },
      "source": [
        "def connect():\n",
        "    return pymysql.connect(\n",
        "        host='',\n",
        "        port=,\n",
        "        user='',\n",
        "        passwd='',\n",
        "        db='',\n",
        "        autocommit=True\n",
        "        )\n",
        "\n",
        "connection = connect()\n",
        "\n",
        "def sql_to_df(sql):\n",
        "    return pd.read_sql(sql, con=connection)\n"
      ],
      "execution_count": 0,
      "outputs": []
    },
    {
      "cell_type": "markdown",
      "metadata": {
        "id": "cjG0f33f_AgN",
        "colab_type": "text"
      },
      "source": [
        "# Database tables"
      ]
    },
    {
      "cell_type": "code",
      "metadata": {
        "id": "w_xtU-sMCSWb",
        "colab_type": "code",
        "colab": {}
      },
      "source": [
        "tables = sql_to_df(\"\"\"SHOW TABLES\"\"\")\n",
        "\n",
        "tables\n"
      ],
      "execution_count": 0,
      "outputs": []
    },
    {
      "cell_type": "markdown",
      "metadata": {
        "id": "ZeZBwZ54cVyS",
        "colab_type": "text"
      },
      "source": [
        "## Event table described"
      ]
    },
    {
      "cell_type": "code",
      "metadata": {
        "id": "nK_tYZIgbz3J",
        "colab_type": "code",
        "colab": {}
      },
      "source": [
        "sql_to_df(\"\"\"DESCRIBE c25k_app_event\"\"\")"
      ],
      "execution_count": 0,
      "outputs": []
    },
    {
      "cell_type": "markdown",
      "metadata": {
        "id": "Deh9wnD9LmJl",
        "colab_type": "text"
      },
      "source": [
        "# App events"
      ]
    },
    {
      "cell_type": "code",
      "metadata": {
        "id": "uC20eqBdLV04",
        "colab_type": "code",
        "colab": {}
      },
      "source": [
        "events = sql_to_df(\"\"\"SELECT * FROM c25k_app_event\"\"\")\n",
        "\n",
        "events.head()\n"
      ],
      "execution_count": 0,
      "outputs": []
    },
    {
      "cell_type": "markdown",
      "metadata": {
        "id": "CpFi0XLJLyzp",
        "colab_type": "text"
      },
      "source": [
        "## Events grouped"
      ]
    },
    {
      "cell_type": "code",
      "metadata": {
        "id": "cLhAYl5yMHIP",
        "colab_type": "code",
        "colab": {}
      },
      "source": [
        "events.groupby('event',\n",
        "               as_index=False)['device_id'].count(\n",
        ").sort_values('device_id',\n",
        "               ascending=False)\n"
      ],
      "execution_count": 0,
      "outputs": []
    },
    {
      "cell_type": "markdown",
      "metadata": {
        "id": "Tw236G0nMb2n",
        "colab_type": "text"
      },
      "source": [
        "## Event values grouped"
      ]
    },
    {
      "cell_type": "code",
      "metadata": {
        "id": "HIT8Kz3LLqrg",
        "colab_type": "code",
        "colab": {}
      },
      "source": [
        "events.groupby('event_value',\n",
        "               as_index=False)['device_id'].count(\n",
        ").sort_values('device_id',\n",
        "               ascending=False)\n"
      ],
      "execution_count": 0,
      "outputs": []
    },
    {
      "cell_type": "markdown",
      "metadata": {
        "id": "wn-t1KHqPu9d",
        "colab_type": "text"
      },
      "source": [
        "## OS split"
      ]
    },
    {
      "cell_type": "code",
      "metadata": {
        "id": "neGxJUmYPynN",
        "colab_type": "code",
        "colab": {}
      },
      "source": [
        "sql_to_df(\"\"\"\n",
        "    \n",
        "    SELECT DISTINCT\n",
        "        COUNT(e.device_id) AS no_devices,\n",
        "        o.device_os\n",
        "    \n",
        "    FROM\n",
        "        c25k_app_event e\n",
        "        \n",
        "        LEFT JOIN\n",
        "        \n",
        "            (SELECT\n",
        "                device_id,\n",
        "                device_os\n",
        "             FROM\n",
        "                c25k_run) o\n",
        "                \n",
        "        ON\n",
        "            e.device_id=o.device_id\n",
        "    \n",
        "    GROUP BY\n",
        "        o.device_os        \n",
        "    \"\"\")\n"
      ],
      "execution_count": 0,
      "outputs": []
    },
    {
      "cell_type": "code",
      "metadata": {
        "id": "GKu2HBpYpSjj",
        "colab_type": "code",
        "colab": {}
      },
      "source": [
        ""
      ],
      "execution_count": 0,
      "outputs": []
    }
  ]
}
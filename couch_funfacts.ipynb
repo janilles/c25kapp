{
  "nbformat": 4,
  "nbformat_minor": 0,
  "metadata": {
    "colab": {
      "name": "couch_funfacts.ipynb",
      "version": "0.3.2",
      "provenance": [],
      "collapsed_sections": [],
      "include_colab_link": true
    },
    "kernelspec": {
      "name": "python3",
      "display_name": "Python 3"
    },
    "accelerator": "GPU"
  },
  "cells": [
    {
      "cell_type": "markdown",
      "metadata": {
        "id": "view-in-github",
        "colab_type": "text"
      },
      "source": [
        "<a href=\"https://colab.research.google.com/github/janilles/couch/blob/master/couch_funfacts.ipynb\" target=\"_parent\"><img src=\"https://colab.research.google.com/assets/colab-badge.svg\" alt=\"Open In Colab\"/></a>"
      ]
    },
    {
      "cell_type": "markdown",
      "metadata": {
        "id": "pvdplfMod0Ga",
        "colab_type": "text"
      },
      "source": [
        "# Jimmy's Hollywood fun facts\n",
        "\n",
        "- How many YEARS of activity have users recorded in the app?"
      ]
    },
    {
      "cell_type": "markdown",
      "metadata": {
        "id": "5y3R71udERSz",
        "colab_type": "text"
      },
      "source": [
        "# Libraries and connection"
      ]
    },
    {
      "cell_type": "code",
      "metadata": {
        "id": "8sp5kDbMEH0O",
        "colab_type": "code",
        "colab": {}
      },
      "source": [
        "# added -q for suppressing output\n",
        "!pip install -q -U pymysql\n",
        "\n",
        "import pymysql\n",
        "import pandas as pd\n",
        "import altair as alt\n"
      ],
      "execution_count": 0,
      "outputs": []
    },
    {
      "cell_type": "code",
      "metadata": {
        "id": "y8r0NVjHEfV8",
        "colab_type": "code",
        "colab": {}
      },
      "source": [
        "def connect():\n",
        "    return pymysql.connect(\n",
        "        host='',\n",
        "        port=,\n",
        "        user='',\n",
        "        passwd='',\n",
        "        db='',\n",
        "        autocommit=True\n",
        "        )\n",
        "\n",
        "connection = connect()\n",
        "\n",
        "def sql_to_df(sql):\n",
        "    return pd.read_sql(sql, con=connection)\n"
      ],
      "execution_count": 0,
      "outputs": []
    },
    {
      "cell_type": "markdown",
      "metadata": {
        "id": "EP67KfgMEvml",
        "colab_type": "text"
      },
      "source": [
        "# Years of activitiy in the app"
      ]
    },
    {
      "cell_type": "markdown",
      "metadata": {
        "id": "dMe-g4EIFJyK",
        "colab_type": "text"
      },
      "source": [
        "## Minutes in each run\n",
        "NOTE: Runs within the same week have the same number of active minutes. Refer to the app's UI. "
      ]
    },
    {
      "cell_type": "code",
      "metadata": {
        "id": "lYzgYjt8FOJT",
        "colab_type": "code",
        "colab": {}
      },
      "source": [
        "week_1 = ((60 + 90) * 7 + 60) / 60 # 18.5 minutes\n",
        "week_2 = ((90 + 120) * 5 + 90) / 60 # 19 minutes\n",
        "week_3 = (90 + 90 + 180 + 180 + 90 + 90 + 180) / 60 # 15 minutes\n",
        "week_4 = (180 + 90 + 300 + 150 + 180 + 90 + 300) / 60 # 21.5 minutes\n",
        "week_5 = 5 + 3 + 5 + 3 + 5 # 21 minutes\n",
        "week_6 = 5 + 3 + 8 + 3 + 5 # 24 minutes\n",
        "week_7 = 25\n",
        "week_8 = 28\n",
        "week_9 = 30"
      ],
      "execution_count": 0,
      "outputs": []
    },
    {
      "cell_type": "markdown",
      "metadata": {
        "id": "zmgz89jBLK_P",
        "colab_type": "text"
      },
      "source": [
        "## Select SQL"
      ]
    },
    {
      "cell_type": "code",
      "metadata": {
        "id": "CKMgj6Q2K0IG",
        "colab_type": "code",
        "colab": {}
      },
      "source": [
        "select = sql_to_df(\"\"\"\n",
        "    SELECT\n",
        "        device_id,\n",
        "        week_no,\n",
        "        has_reached_halfway,\n",
        "        has_finished\n",
        "    FROM\n",
        "        c25k_run\n",
        "    WHERE\n",
        "        has_reached_halfway = 1\n",
        "        OR\n",
        "        has_finished = 1\n",
        "        \"\"\")\n",
        "\n",
        "select.head()\n"
      ],
      "execution_count": 0,
      "outputs": []
    },
    {
      "cell_type": "markdown",
      "metadata": {
        "id": "svnw6srMhR1c",
        "colab_type": "text"
      },
      "source": [
        "## Mapping minutes to weeks"
      ]
    },
    {
      "cell_type": "code",
      "metadata": {
        "id": "G2LPNF4lMdl_",
        "colab_type": "code",
        "colab": {}
      },
      "source": [
        "# map minutes to week numbers\n",
        "select['week_minutes'] = select['week_no'].map(\n",
        "    {\n",
        "        1 : week_1,\n",
        "        2 : week_2,\n",
        "        3 : week_3,\n",
        "        4 : week_4,\n",
        "        5 : week_5,\n",
        "        6 : week_6,\n",
        "        7 : week_7,\n",
        "        8 : week_8,\n",
        "        9 : week_9\n",
        "})\n",
        "\n",
        "select.head()\n"
      ],
      "execution_count": 0,
      "outputs": []
    },
    {
      "cell_type": "markdown",
      "metadata": {
        "id": "DeT21uEVhVVh",
        "colab_type": "text"
      },
      "source": [
        "## Calculating minutes per run"
      ]
    },
    {
      "cell_type": "code",
      "metadata": {
        "id": "c25vq-wJUWxD",
        "colab_type": "code",
        "colab": {}
      },
      "source": [
        "# helper function\n",
        "def minutes_calculator(row):\n",
        "    if row['has_finished'] == 1:\n",
        "        return row['week_minutes']\n",
        "    else:\n",
        "        return row['week_minutes'] / 2\n"
      ],
      "execution_count": 0,
      "outputs": []
    },
    {
      "cell_type": "code",
      "metadata": {
        "id": "bw-nKpUEV8ti",
        "colab_type": "code",
        "colab": {}
      },
      "source": [
        "# apply helper funtion to dataframe\n",
        "select['active_minutes'] = select.apply(\n",
        "\n",
        "    lambda row: minutes_calculator(row),\n",
        "    axis=1\n",
        ")\n",
        "\n",
        "select.head()\n"
      ],
      "execution_count": 0,
      "outputs": []
    },
    {
      "cell_type": "markdown",
      "metadata": {
        "id": "TjPLN04Nhpnu",
        "colab_type": "text"
      },
      "source": [
        "## Activity expressed in years"
      ]
    },
    {
      "cell_type": "code",
      "metadata": {
        "id": "51TD4EDoWbLN",
        "colab_type": "code",
        "colab": {}
      },
      "source": [
        "active_minutes = round(select['active_minutes'].sum(), 2)\n",
        "\n",
        "# divided by 60 for an hour / 24 for a day / 365 for a year\n",
        "active_years = round(active_minutes / 60 / 24 / 365, 1)\n"
      ],
      "execution_count": 0,
      "outputs": []
    },
    {
      "cell_type": "code",
      "metadata": {
        "id": "uebCR19xWq8s",
        "colab_type": "code",
        "colab": {}
      },
      "source": [
        "print(f\"{active_minutes:,} of active minutes\")\n",
        "print(f\"{active_years:} of active years\")"
      ],
      "execution_count": 0,
      "outputs": []
    }
  ]
}
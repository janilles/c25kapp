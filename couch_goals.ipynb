{
  "nbformat": 4,
  "nbformat_minor": 0,
  "metadata": {
    "colab": {
      "name": "couch_goals.ipynb",
      "version": "0.3.2",
      "provenance": [],
      "private_outputs": true,
      "collapsed_sections": [],
      "toc_visible": true,
      "include_colab_link": true
    },
    "kernelspec": {
      "name": "python3",
      "display_name": "Python 3"
    },
    "accelerator": "GPU"
  },
  "cells": [
    {
      "cell_type": "markdown",
      "metadata": {
        "id": "view-in-github",
        "colab_type": "text"
      },
      "source": [
        "<a href=\"https://colab.research.google.com/github/janilles/couch/blob/master/couch_goals.ipynb\" target=\"_parent\"><img src=\"https://colab.research.google.com/assets/colab-badge.svg\" alt=\"Open In Colab\"/></a>"
      ]
    },
    {
      "cell_type": "markdown",
      "metadata": {
        "id": "g8HkPW_ps6gJ",
        "colab_type": "text"
      },
      "source": [
        "# Boilerplate"
      ]
    },
    {
      "cell_type": "code",
      "metadata": {
        "id": "VjQn5aaIit2-",
        "colab_type": "code",
        "colab": {}
      },
      "source": [
        "# added -q for suppressing output\n",
        "!pip install -q -U pymysql\n",
        "\n",
        "import pymysql\n",
        "import pandas as pd\n",
        "import altair as alt\n"
      ],
      "execution_count": 0,
      "outputs": []
    },
    {
      "cell_type": "markdown",
      "metadata": {
        "id": "nYWwIhzh-vax",
        "colab_type": "text"
      },
      "source": [
        "# Database connection\n",
        "\n"
      ]
    },
    {
      "cell_type": "code",
      "metadata": {
        "id": "eCEEfGBHiyQV",
        "colab_type": "code",
        "colab": {}
      },
      "source": [
        "def connect():\n",
        "    return pymysql.connect(\n",
        "        host=' ',\n",
        "        port= , # number, not string\n",
        "        user=' ',\n",
        "        passwd=' ',\n",
        "        db=' ',\n",
        "        autocommit=True\n",
        "        )\n",
        "\n",
        "connection = connect()\n",
        "\n",
        "def sql_to_df(sql):\n",
        "    return pd.read_sql(sql, con=connection)\n"
      ],
      "execution_count": 0,
      "outputs": []
    },
    {
      "cell_type": "markdown",
      "metadata": {
        "id": "cjG0f33f_AgN",
        "colab_type": "text"
      },
      "source": [
        "# Database tables"
      ]
    },
    {
      "cell_type": "code",
      "metadata": {
        "id": "w_xtU-sMCSWb",
        "colab_type": "code",
        "colab": {}
      },
      "source": [
        "sql_to_df(\"\"\"SHOW TABLES\"\"\")"
      ],
      "execution_count": 0,
      "outputs": []
    },
    {
      "cell_type": "markdown",
      "metadata": {
        "id": "ZeZBwZ54cVyS",
        "colab_type": "text"
      },
      "source": [
        "## Tables described"
      ]
    },
    {
      "cell_type": "code",
      "metadata": {
        "id": "nK_tYZIgbz3J",
        "colab_type": "code",
        "colab": {}
      },
      "source": [
        "sql_to_df(\"\"\"DESCRIBE c25k_user_goal\"\"\")"
      ],
      "execution_count": 0,
      "outputs": []
    },
    {
      "cell_type": "code",
      "metadata": {
        "id": "DDsZvfLIcIMl",
        "colab_type": "code",
        "colab": {}
      },
      "source": [
        "sql_to_df(\"\"\"DESCRIBE c25k_device\"\"\")"
      ],
      "execution_count": 0,
      "outputs": []
    },
    {
      "cell_type": "code",
      "metadata": {
        "id": "1l1LKQTzbsLO",
        "colab_type": "code",
        "colab": {}
      },
      "source": [
        "sql_to_df(\"\"\"DESCRIBE c25k_run\"\"\")"
      ],
      "execution_count": 0,
      "outputs": []
    },
    {
      "cell_type": "code",
      "metadata": {
        "id": "ftKTjQYLcNT1",
        "colab_type": "code",
        "colab": {}
      },
      "source": [
        "sql_to_df(\"\"\"DESCRIBE c25k_trainer_log\"\"\")"
      ],
      "execution_count": 0,
      "outputs": []
    },
    {
      "cell_type": "markdown",
      "metadata": {
        "id": "L9rxPH6bDlY1",
        "colab_type": "text"
      },
      "source": [
        "# User goals"
      ]
    },
    {
      "cell_type": "markdown",
      "metadata": {
        "id": "FvzyxV5jDvan",
        "colab_type": "text"
      },
      "source": [
        "## Goals by popularity"
      ]
    },
    {
      "cell_type": "code",
      "metadata": {
        "id": "mgTYjCoaj4KR",
        "colab_type": "code",
        "colab": {}
      },
      "source": [
        "top_goals = sql_to_df(\"\"\"\n",
        "    SELECT\n",
        "        goal,\n",
        "        COUNT(device_id) AS users\n",
        "    FROM\n",
        "        c25k_user_goal\n",
        "    GROUP BY\n",
        "        goal\n",
        "    ORDER BY\n",
        "        users DESC\n",
        "        \"\"\")\n",
        "\n",
        "top_goals.head(13)\n"
      ],
      "execution_count": 0,
      "outputs": []
    },
    {
      "cell_type": "markdown",
      "metadata": {
        "id": "m4Y-CR-ocogf",
        "colab_type": "text"
      },
      "source": [
        "## Goals per user (data check)\n",
        "Checking data integrity - database issue."
      ]
    },
    {
      "cell_type": "code",
      "metadata": {
        "id": "g_OB9mspctwl",
        "colab_type": "code",
        "colab": {}
      },
      "source": [
        "goals_avg = sql_to_df(\"\"\"\n",
        "    SELECT\n",
        "        device_id,\n",
        "        COUNT(goal)\n",
        "    FROM\n",
        "        c25k_user_goal\n",
        "    GROUP BY\n",
        "        device_id\n",
        "    ORDER BY\n",
        "        COUNT(goal) DESC\n",
        "        \"\"\")\n",
        "\n",
        "goals_avg.head()\n"
      ],
      "execution_count": 0,
      "outputs": []
    },
    {
      "cell_type": "code",
      "metadata": {
        "id": "U0U0jmDJOiKY",
        "colab_type": "code",
        "colab": {}
      },
      "source": [
        "# from google.colab import files\n",
        "\n",
        "# goals_avg.to_csv('df.csv')\n",
        "# files.download('df.csv')"
      ],
      "execution_count": 0,
      "outputs": []
    },
    {
      "cell_type": "markdown",
      "metadata": {
        "id": "nUd6BZW0Scuj",
        "colab_type": "text"
      },
      "source": [
        "## Mental heatlh\n",
        "Look up of mental health related goals from user inputs."
      ]
    },
    {
      "cell_type": "code",
      "metadata": {
        "id": "h-_CF7xnGYM2",
        "colab_type": "code",
        "colab": {}
      },
      "source": [
        "# top_goals df contains all unique user inputs\n",
        "selection = top_goals['goal'].str.contains(\n",
        "    'mental|depression|anxiety',\n",
        "    case=False,\n",
        "    regex=True)\n",
        "\n",
        "top_goals[selection].head(10)\n"
      ],
      "execution_count": 0,
      "outputs": []
    },
    {
      "cell_type": "code",
      "metadata": {
        "id": "-ljm8fDAn8GH",
        "colab_type": "code",
        "colab": {}
      },
      "source": [
        "print(top_goals['users'].sum())\n",
        "print(top_goals[selection]['users'].sum())\n",
        "print(top_goals[selection]['users'].sum()/\n",
        "      top_goals['users'].sum()*100)"
      ],
      "execution_count": 0,
      "outputs": []
    },
    {
      "cell_type": "code",
      "metadata": {
        "id": "zuZUpDukmiCB",
        "colab_type": "code",
        "colab": {}
      },
      "source": [
        ""
      ],
      "execution_count": 0,
      "outputs": []
    }
  ]
}
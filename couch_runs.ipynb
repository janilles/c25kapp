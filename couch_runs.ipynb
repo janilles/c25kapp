{
  "nbformat": 4,
  "nbformat_minor": 0,
  "metadata": {
    "colab": {
      "name": "couch_runs.ipynb",
      "version": "0.3.2",
      "provenance": [],
      "collapsed_sections": [
        "cjG0f33f_AgN",
        "wQFpvB4tVw0P",
        "PCdN3TjCkYwS",
        "8boB7ip4bSNS",
        "M13LXlF41mBt"
      ],
      "toc_visible": true,
      "include_colab_link": true
    },
    "kernelspec": {
      "name": "python3",
      "display_name": "Python 3"
    },
    "accelerator": "GPU"
  },
  "cells": [
    {
      "cell_type": "markdown",
      "metadata": {
        "id": "view-in-github",
        "colab_type": "text"
      },
      "source": [
        "<a href=\"https://colab.research.google.com/github/janilles/couch/blob/master/couch_runs.ipynb\" target=\"_parent\"><img src=\"https://colab.research.google.com/assets/colab-badge.svg\" alt=\"Open In Colab\"/></a>"
      ]
    },
    {
      "cell_type": "markdown",
      "metadata": {
        "id": "g8HkPW_ps6gJ",
        "colab_type": "text"
      },
      "source": [
        "# Boilerplate"
      ]
    },
    {
      "cell_type": "code",
      "metadata": {
        "id": "VjQn5aaIit2-",
        "colab_type": "code",
        "colab": {}
      },
      "source": [
        "# added -q for suppressing output\n",
        "!pip install -q -U pymysql\n",
        "\n",
        "import pymysql\n",
        "import pandas as pd\n",
        "import altair as alt\n"
      ],
      "execution_count": 0,
      "outputs": []
    },
    {
      "cell_type": "markdown",
      "metadata": {
        "id": "nYWwIhzh-vax",
        "colab_type": "text"
      },
      "source": [
        "# Database connection\n",
        "\n"
      ]
    },
    {
      "cell_type": "code",
      "metadata": {
        "id": "eCEEfGBHiyQV",
        "colab_type": "code",
        "colab": {}
      },
      "source": [
        "def connect():\n",
        "    return pymysql.connect(\n",
        "        host='',\n",
        "        port=,\n",
        "        user='',\n",
        "        passwd='',\n",
        "        db='',\n",
        "        autocommit=True\n",
        "        )\n",
        "\n",
        "connection = connect()\n",
        "\n",
        "def sql_to_df(sql):\n",
        "    return pd.read_sql(sql, con=connection)\n"
      ],
      "execution_count": 0,
      "outputs": []
    },
    {
      "cell_type": "markdown",
      "metadata": {
        "id": "cjG0f33f_AgN",
        "colab_type": "text"
      },
      "source": [
        "# Database tables"
      ]
    },
    {
      "cell_type": "code",
      "metadata": {
        "id": "w_xtU-sMCSWb",
        "colab_type": "code",
        "colab": {}
      },
      "source": [
        "tables = sql_to_df(\"\"\"SHOW TABLES\"\"\")\n",
        "\n",
        "tables\n"
      ],
      "execution_count": 0,
      "outputs": []
    },
    {
      "cell_type": "markdown",
      "metadata": {
        "id": "ZeZBwZ54cVyS",
        "colab_type": "text"
      },
      "source": [
        "## Runs table described"
      ]
    },
    {
      "cell_type": "code",
      "metadata": {
        "id": "1l1LKQTzbsLO",
        "colab_type": "code",
        "colab": {}
      },
      "source": [
        "sql_to_df(\"\"\"DESCRIBE c25k_run\"\"\")"
      ],
      "execution_count": 0,
      "outputs": []
    },
    {
      "cell_type": "markdown",
      "metadata": {
        "id": "wQFpvB4tVw0P",
        "colab_type": "text"
      },
      "source": [
        "# Data sense-checking"
      ]
    },
    {
      "cell_type": "markdown",
      "metadata": {
        "id": "sFAJTG4TfzMz",
        "colab_type": "text"
      },
      "source": [
        "## Run timestamps on iOS v Android\n",
        "Some version of Android is believed to be an hour behind but it doesn't look like it in comparison to iOS."
      ]
    },
    {
      "cell_type": "code",
      "metadata": {
        "id": "6MNIl_SwzpOu",
        "colab_type": "code",
        "colab": {}
      },
      "source": [
        "run_times = sql_to_df(\"\"\"\n",
        "    SELECT\n",
        "        A.device_os,\n",
        "        HOUR(started_at) AS run_hour,\n",
        "        COUNT(DISTINCT started_at) AS run_count,\n",
        "        COUNT(DISTINCT started_at)*100.00/B.total_run_count AS pc_total_runs\n",
        "    FROM\n",
        "        insights.c25k_run AS A\n",
        "\n",
        "        LEFT JOIN\n",
        "            (SELECT\n",
        "                device_os,\n",
        "                COUNT(DISTINCT started_at) AS total_run_count\n",
        "            FROM\n",
        "                insights.c25k_run\n",
        "            GROUP BY\n",
        "                device_os) AS B\n",
        "        ON A.device_os = B.device_os\n",
        "        \n",
        "    GROUP BY\n",
        "        A.device_os,\n",
        "        run_hour\n",
        "    \"\"\")\n",
        "\n",
        "run_times.head()\n"
      ],
      "execution_count": 0,
      "outputs": []
    },
    {
      "cell_type": "code",
      "metadata": {
        "id": "cBnGftYX5l8h",
        "colab_type": "code",
        "colab": {}
      },
      "source": [
        "def farrukh(row):\n",
        "    if row['device_os'] == 'android':\n",
        "        hour = row['run_hour'] - 1\n",
        "        return hour\n",
        "    else:\n",
        "        return row['run_hour']\n",
        "\n",
        "run_times['shifted_hour'] = run_times.apply(\n",
        "    lambda row: farrukh(row),axis=1)\n",
        "\n",
        "run_times"
      ],
      "execution_count": 0,
      "outputs": []
    },
    {
      "cell_type": "code",
      "metadata": {
        "id": "AY4xCEFF0gHs",
        "colab_type": "code",
        "colab": {}
      },
      "source": [
        "alt.Chart(run_times,\n",
        "          title='Percent of all runs by hour and OS').mark_line(\n",
        ").encode(\n",
        "    x='run_hour',\n",
        "    y='pc_total_runs',\n",
        "    color='device_os')\n"
      ],
      "execution_count": 0,
      "outputs": []
    },
    {
      "cell_type": "code",
      "metadata": {
        "id": "IXl1jyYZ4K2A",
        "colab_type": "code",
        "colab": {}
      },
      "source": [
        "alt.Chart(run_times,\n",
        "          title='Percent of all runs by hour and OS').mark_line(\n",
        ").encode(\n",
        "    x='shifted_hour',\n",
        "    y='pc_total_runs',\n",
        "    color='device_os')\n"
      ],
      "execution_count": 0,
      "outputs": []
    },
    {
      "cell_type": "markdown",
      "metadata": {
        "id": "Dq0QgjFWNrdw",
        "colab_type": "text"
      },
      "source": [
        "## Users with too many runs started in one day"
      ]
    },
    {
      "cell_type": "code",
      "metadata": {
        "id": "a5RXMKwFNquh",
        "colab_type": "code",
        "colab": {}
      },
      "source": [
        "started_runs_by_day = sql_to_df(\"\"\"\n",
        "    SELECT\n",
        "        device_id,\n",
        "        DATE(started_at) AS date,\n",
        "        COUNT(id) AS runs_started\n",
        "    FROM\n",
        "        c25k_run\n",
        "    GROUP BY\n",
        "        device_id,\n",
        "        date\n",
        "    ORDER BY\n",
        "        runs_started DESC\"\"\")\n",
        "\n",
        "started_runs_by_day.head(10)\n"
      ],
      "execution_count": 0,
      "outputs": []
    },
    {
      "cell_type": "markdown",
      "metadata": {
        "id": "NjX5OKG6QC0z",
        "colab_type": "text"
      },
      "source": [
        "### In proportion with all users running"
      ]
    },
    {
      "cell_type": "code",
      "metadata": {
        "id": "bWzQWHpiQCCl",
        "colab_type": "code",
        "colab": {}
      },
      "source": [
        "# .sum() added so it returns a number\n",
        "all_users_running = sql_to_df(\"\"\"\n",
        "    SELECT\n",
        "        COUNT(DISTINCT device_id) AS runners\n",
        "    FROM\n",
        "        c25k_run\"\"\")['runners'].sum()\n",
        "\n",
        "# conditions for dataframe slicing\n",
        "condition_3 = started_runs_by_day['runs_started'] > 3\n",
        "condition_1 = started_runs_by_day['runs_started'] == 1\n",
        "\n",
        "# device counts based on conditions\n",
        "more_than_3 = started_runs_by_day[condition_3]['device_id'].nunique()\n",
        "just_1_started = started_runs_by_day[condition_1]['device_id'].nunique()\n",
        "\n",
        "# calculations rounded to 1 decimal\n",
        "percent_3 = round(more_than_3 / all_users_running * 100, 1)\n",
        "percent_1 = round(just_1_started / all_users_running * 100, 1)\n",
        "\n",
        "print(f\"All users with runs in the databse: {all_users_running}\")\n",
        "print(f\"Users with three plus started runs in one day: {more_than_3}\")\n",
        "print(f\"Percentage of three plus from all users: {percent_3}%\")\n",
        "print(f\"Just one started run in a day: {just_1_started}\")\n",
        "print(f\"Percentage of just one from all users: {percent_1}%\")\n"
      ],
      "execution_count": 0,
      "outputs": []
    },
    {
      "cell_type": "markdown",
      "metadata": {
        "id": "-fkAt8JDP8LN",
        "colab_type": "text"
      },
      "source": [
        "## Users with too many runs finished in one day"
      ]
    },
    {
      "cell_type": "code",
      "metadata": {
        "id": "-bU5AksLPYPS",
        "colab_type": "code",
        "colab": {}
      },
      "source": [
        "runs_finished_by_day = sql_to_df(\"\"\"\n",
        "    SELECT\n",
        "        device_id,\n",
        "        DATE(started_at) AS date,\n",
        "        COUNT(id) AS runs_finished\n",
        "    FROM\n",
        "        c25k_run\n",
        "    WHERE\n",
        "        has_finished = 1\n",
        "    GROUP BY\n",
        "        device_id,\n",
        "        date\n",
        "    ORDER BY\n",
        "        runs_finished DESC\"\"\")\n",
        "\n",
        "runs_finished_by_day.head(10)\n"
      ],
      "execution_count": 0,
      "outputs": []
    },
    {
      "cell_type": "markdown",
      "metadata": {
        "id": "Oguid9mnqWPE",
        "colab_type": "text"
      },
      "source": [
        "### In proportion with all users finishing runs"
      ]
    },
    {
      "cell_type": "code",
      "metadata": {
        "id": "AAfk9vjcqRz4",
        "colab_type": "code",
        "colab": {}
      },
      "source": [
        "# .sum() added so it doesn't return a dataframe but a figure\n",
        "all_users_finishing = sql_to_df(\"\"\"\n",
        "    SELECT\n",
        "        COUNT(DISTINCT device_id) AS finishers\n",
        "    FROM\n",
        "        c25k_run\n",
        "    WHERE\n",
        "        has_finished = 1\n",
        "    \"\"\")['finishers'].sum()\n",
        "\n",
        "# conditions for dataframe slicing\n",
        "condition_2f = runs_finished_by_day['runs_finished'] > 1\n",
        "condition_1f = runs_finished_by_day['runs_finished'] == 1\n",
        "\n",
        "# device counts based on conditions\n",
        "finished_2plus = runs_finished_by_day[condition_2f]['device_id'].nunique()\n",
        "finished_1 = runs_finished_by_day[condition_1f]['device_id'].nunique()\n",
        "\n",
        "# calculations rounded to 1 decimal\n",
        "percent_2f = round(finished_2plus / all_users_finishing * 100, 1)\n",
        "percent_1f = round(finished_1 / all_users_finishing * 100, 1)\n",
        "\n",
        "print(f\"All users with runs finished: {all_users_finishing}\")\n",
        "print(f\"Users with two or more runs finished in one day: {finished_2plus}\")\n",
        "print(f\"Percentage of two or more... from all users: {percent_2f}%\")\n",
        "print(f\"Just one finished run in a day: {finished_1}\")\n",
        "print(f\"Percentage of just one from all users: {percent_1f}%\")\n"
      ],
      "execution_count": 0,
      "outputs": []
    },
    {
      "cell_type": "markdown",
      "metadata": {
        "id": "QNMthx7SOyX_",
        "colab_type": "text"
      },
      "source": [
        "## Users with many runs finished in a day by device OS"
      ]
    },
    {
      "cell_type": "code",
      "metadata": {
        "id": "L9amByNINroO",
        "colab_type": "code",
        "colab": {}
      },
      "source": [
        "runs_finished_by_day_os = sql_to_df(\"\"\"\n",
        "    SELECT\n",
        "        device_id,\n",
        "        device_os,\n",
        "        DATE(started_at) AS date,\n",
        "        COUNT(id) AS runs_finished\n",
        "    FROM\n",
        "        c25k_run\n",
        "    WHERE\n",
        "        has_finished = 1\n",
        "    GROUP BY\n",
        "        device_id,\n",
        "        date\n",
        "    ORDER BY\n",
        "        runs_finished DESC\"\"\")\n",
        "\n",
        "runs_finished_by_day_os.head()\n"
      ],
      "execution_count": 0,
      "outputs": []
    },
    {
      "cell_type": "code",
      "metadata": {
        "id": "9Wez-P-5OGg-",
        "colab_type": "code",
        "colab": {}
      },
      "source": [
        "# just a sample of the worst cases\n",
        "ten_or_more = runs_finished_by_day_os['runs_finished'] > 9\n",
        "\n",
        "runs_finished_by_day_os.loc[ten_or_more].groupby(\n",
        "    'device_os',\n",
        "    as_index=False)['device_id'].count()\n"
      ],
      "execution_count": 0,
      "outputs": []
    },
    {
      "cell_type": "markdown",
      "metadata": {
        "id": "RN30rNsJHiKg",
        "colab_type": "text"
      },
      "source": [
        "# Runs data overview"
      ]
    },
    {
      "cell_type": "code",
      "metadata": {
        "id": "wAnA_Hg62Fj1",
        "colab_type": "code",
        "cellView": "code",
        "colab": {}
      },
      "source": [
        "overview = sql_to_df(\"\"\"\n",
        "    SELECT\n",
        "        FORMAT(COUNT(DISTINCT device_id), 0) AS users,\n",
        "        FORMAT(COUNT(id), 0) AS runs_started,\n",
        "        FORMAT(SUM(has_reached_halfway), 0) AS runs_halfway,\n",
        "        FORMAT(SUM(has_finished), 0) AS runs_finished,\n",
        "        FORMAT(SUM(IF(lat != 0, 1, 0))/COUNT(id)*100, 1) AS pc_runs_with_location\n",
        "    FROM\n",
        "        c25k_run\n",
        "        \"\"\")\n",
        "\n",
        "overview\n"
      ],
      "execution_count": 0,
      "outputs": []
    },
    {
      "cell_type": "markdown",
      "metadata": {
        "id": "GMTXuTKWS0OH",
        "colab_type": "text"
      },
      "source": [
        "# Runs by day"
      ]
    },
    {
      "cell_type": "code",
      "metadata": {
        "id": "6wmhsTDswwgE",
        "colab_type": "code",
        "colab": {}
      },
      "source": [
        "runs_by_date = sql_to_df(\"\"\"\n",
        "    SELECT\n",
        "        DATE(started_at) AS date,\n",
        "        DAYNAME(started_at) AS day,\n",
        "        COUNT(id) AS runs_started\n",
        "    FROM\n",
        "        c25k_run\n",
        "    WHERE\n",
        "        DATE(started_at) BETWEEN '2019-04-28' AND '2019-07-03' -- data cleaning\n",
        "    GROUP BY\n",
        "        date\n",
        "    \"\"\")\n",
        "\n",
        "runs_by_date.head()"
      ],
      "execution_count": 0,
      "outputs": []
    },
    {
      "cell_type": "code",
      "metadata": {
        "id": "96lI__w7cY3H",
        "colab_type": "code",
        "cellView": "form",
        "colab": {}
      },
      "source": [
        "#@title Viz\n",
        "# this is necessary as the 'date' is an object, not datetime\n",
        "runs_by_date['date'] = pd.to_datetime(runs_by_date['date'])\n",
        "\n",
        "# chart from Altair viz example gallery\n",
        "bar = alt.Chart(runs_by_date, title='Run starts').mark_bar(size=15).encode(\n",
        "    x='date:T',\n",
        "    y='runs_started:Q',\n",
        "    color=alt.Color('day:N', sort=['Monday',\n",
        "                                   'Tuesday',\n",
        "                                   'Wednesday',\n",
        "                                   'Thursday',\n",
        "                                   'Friday',\n",
        "                                   'Saturday',\n",
        "                                   'Sunday'])\n",
        ")\n",
        "\n",
        "rule = alt.Chart(runs_by_date).mark_rule(color='red').encode(\n",
        "    y='mean(runs_started):Q'\n",
        ")\n",
        "\n",
        "(bar + rule).properties(width=1000, height=500).configure_axis(\n",
        "    grid=False\n",
        ")\n"
      ],
      "execution_count": 0,
      "outputs": []
    },
    {
      "cell_type": "markdown",
      "metadata": {
        "id": "EJh3f6ivITES",
        "colab_type": "text"
      },
      "source": [
        "# Runs by hour of day"
      ]
    },
    {
      "cell_type": "code",
      "metadata": {
        "id": "FO2JZoRBH-Qn",
        "colab_type": "code",
        "cellView": "both",
        "colab": {}
      },
      "source": [
        "# count of run IDs per weekday and hour averaged\n",
        "runs_by_hour = sql_to_df(\"\"\"\n",
        "    SELECT\n",
        "        s.day,\n",
        "        s.hour,\n",
        "        AVG(s.runs) AS avg_runs\n",
        "    FROM\n",
        "        (\n",
        "        SELECT\n",
        "            DAYNAME(started_at) AS day,\n",
        "            HOUR(started_at) AS hour,\n",
        "            COUNT(id) AS runs\n",
        "        FROM\n",
        "            c25k_run\n",
        "        GROUP BY\n",
        "            day,\n",
        "            hour\n",
        "        ) s\n",
        "    GROUP BY\n",
        "        s.day,\n",
        "        s.hour\n",
        "    \"\"\")\n",
        "\n",
        "runs_by_hour.head()\n"
      ],
      "execution_count": 0,
      "outputs": []
    },
    {
      "cell_type": "code",
      "metadata": {
        "id": "rGkcnQvLJFZn",
        "colab_type": "code",
        "cellView": "form",
        "colab": {}
      },
      "source": [
        "#@title Viz\n",
        "highlight = alt.selection(type='single',\n",
        "                          on='mouseover',\n",
        "                          fields=['day'],\n",
        "                          nearest=True)\n",
        "\n",
        "base = alt.Chart(runs_by_hour, \n",
        "                 title='Avg. number of runs by hour of day').encode(\n",
        "    x='hour:N',\n",
        "    y='avg_runs:Q',\n",
        "    color=alt.Color('day:N', sort=['Monday',\n",
        "                                   'Tuesday',\n",
        "                                   'Wednesday',\n",
        "                                   'Thursday',\n",
        "                                   'Friday',\n",
        "                                   'Saturday',\n",
        "                                   'Sunday'])\n",
        ")\n",
        "\n",
        "points = base.mark_circle().encode(\n",
        "    opacity=alt.value(0)\n",
        ").add_selection(\n",
        "    highlight\n",
        ").properties(\n",
        "    width=1000, height=500\n",
        ")\n",
        "\n",
        "lines = base.mark_line().encode(\n",
        "    size=alt.condition(~highlight, alt.value(1), alt.value(3))\n",
        ").properties(width=1000, height=500)\n",
        "\n",
        "points + lines"
      ],
      "execution_count": 0,
      "outputs": []
    },
    {
      "cell_type": "markdown",
      "metadata": {
        "id": "yz_XVvbxq-lu",
        "colab_type": "text"
      },
      "source": [
        "# Runs started/completed"
      ]
    },
    {
      "cell_type": "code",
      "metadata": {
        "id": "15GES26K0XMC",
        "colab_type": "code",
        "colab": {}
      },
      "source": [
        "run_start_comp = sql_to_df(\"\"\"\n",
        "    SELECT\n",
        "        ((week_no-1)*3 + run_no) AS overall_run_no,\n",
        "        week_no,\n",
        "        COUNT(DISTINCT device_id) AS runners,\n",
        "        COUNT(DISTINCT (CASE WHEN has_finished = 1 THEN started_at END)) AS finished_run\n",
        "    FROM\n",
        "        c25k_run        \n",
        "    GROUP BY\n",
        "        overall_run_no\n",
        "    \"\"\")\n",
        "\n",
        "run_start_comp.head()\n"
      ],
      "execution_count": 0,
      "outputs": []
    },
    {
      "cell_type": "code",
      "metadata": {
        "id": "QbQtfuav2C6Z",
        "colab_type": "code",
        "colab": {}
      },
      "source": [
        "melted_st_comp = pd.melt(run_start_comp, id_vars=['overall_run_no', 'week_no'], value_vars=['runners', 'finished_run'])\n",
        "\n",
        "melted_st_comp.head()"
      ],
      "execution_count": 0,
      "outputs": []
    },
    {
      "cell_type": "code",
      "metadata": {
        "id": "EgWMEHrKjdaw",
        "colab_type": "code",
        "cellView": "form",
        "colab": {}
      },
      "source": [
        "#@title Viz\n",
        "alt.Chart(melted_st_comp, \n",
        "          title='Runners with completed runs').mark_bar(\n",
        ").encode(\n",
        "    # x='variable:O',\n",
        "    alt.X('variable:O',\n",
        "          scale=alt.Scale(rangeStep=15),\n",
        "          sort=['runners', 'finished_run'],\n",
        "          title=''), # to hide labels\n",
        "    y='value:Q',\n",
        "    color='week_no:N',\n",
        "    column='overall_run_no:N'\n",
        ")\n"
      ],
      "execution_count": 0,
      "outputs": []
    },
    {
      "cell_type": "markdown",
      "metadata": {
        "id": "PCdN3TjCkYwS",
        "colab_type": "text"
      },
      "source": [
        "# Completion rates for each run "
      ]
    },
    {
      "cell_type": "code",
      "metadata": {
        "id": "nlwwdpFgcrIA",
        "colab_type": "code",
        "cellView": "form",
        "colab": {}
      },
      "source": [
        "#@title Default title text\n",
        "runs = sql_to_df(\"\"\"\n",
        "    SELECT\n",
        "        id,\n",
        "        week_no,\n",
        "        run_no,\n",
        "        has_reached_halfway,\n",
        "        has_finished\n",
        "    FROM\n",
        "        c25k_run\n",
        "    \"\"\")\n",
        "\n",
        "runs.head()"
      ],
      "execution_count": 0,
      "outputs": []
    },
    {
      "cell_type": "code",
      "metadata": {
        "id": "WaoFk-NylF88",
        "colab_type": "code",
        "cellView": "form",
        "colab": {}
      },
      "source": [
        "#@title Default title text\n",
        "# initiate lists to build a data fram from\n",
        "Starts = []\n",
        "Halfway = []\n",
        "Finished = []\n",
        "\n",
        "for week in range(1, 10):\n",
        "    # dataframe slicing condition\n",
        "    week_slice = runs['week_no'] == week\n",
        "    # sliced dtaframe by week number from the for loop\n",
        "    wk_runs = runs[week_slice]\n",
        "\n",
        "    for run in range(1, 4):\n",
        "        # dataframe slicing condtions\n",
        "        run_slice = wk_runs['run_no'] == run\n",
        "        hway_slice = wk_runs['has_reached_halfway'] == 1\n",
        "        fin_slice = wk_runs['has_finished'] == 1\n",
        "\n",
        "        # counting run IDs where conditions are met\n",
        "        starts = wk_runs[run_slice]['id'].count()\n",
        "        halfway = wk_runs[(run_slice) & (hway_slice)]['id'].count()\n",
        "        finished = wk_runs[(run_slice) & (fin_slice)]['id'].count()\n",
        "\n",
        "        Starts.append(starts)\n",
        "        Halfway.append(halfway)\n",
        "        Finished.append(finished)\n",
        "\n",
        "# dictionary to create dataframe from\n",
        "d = {'Run_no': list(range(1, 28)),\n",
        "     'Starts': Starts,\n",
        "     'Halfway': Halfway,\n",
        "     'Finished': Finished}\n",
        "\n",
        "run_completions = pd.DataFrame(data=d)\n",
        "\n",
        "# create columns for each rate\n",
        "run_completions['Halfway_from_start_%'] = \\\n",
        "    round(\n",
        "        run_completions['Halfway'] /\n",
        "        run_completions['Starts']*100,\n",
        "        1)\n",
        "\n",
        "run_completions['Finished_from_start_%'] = \\\n",
        "    round(\n",
        "        run_completions['Finished'] /\n",
        "        run_completions['Starts']*100,\n",
        "        1)\n",
        "\n",
        "run_completions['Finished_from_halfway_%'] = \\\n",
        "    round(\n",
        "        run_completions['Finished'] /\n",
        "        run_completions['Halfway']*100,\n",
        "        1)\n",
        "\n",
        "# add conditional formatting to relevant columns\n",
        "run_completions \\\n",
        "    .style \\\n",
        "    .background_gradient(\n",
        "        cmap='RdYlGn',\n",
        "        subset=['Halfway_from_start_%',\n",
        "                'Finished_from_start_%',\n",
        "                'Finished_from_halfway_%'])\n"
      ],
      "execution_count": 0,
      "outputs": []
    },
    {
      "cell_type": "markdown",
      "metadata": {
        "id": "8boB7ip4bSNS",
        "colab_type": "text"
      },
      "source": [
        "### Export dataframe as CSV"
      ]
    },
    {
      "cell_type": "code",
      "metadata": {
        "id": "qYO2xkbIuB7B",
        "colab_type": "code",
        "colab": {}
      },
      "source": [
        "# from google.colab import files\n",
        "\n",
        "# run_completions.to_csv('df.csv')\n",
        "# files.download('df.csv')"
      ],
      "execution_count": 0,
      "outputs": []
    },
    {
      "cell_type": "markdown",
      "metadata": {
        "id": "M13LXlF41mBt",
        "colab_type": "text"
      },
      "source": [
        "# Completion rates for each run by trainer, OS"
      ]
    },
    {
      "cell_type": "code",
      "metadata": {
        "id": "qXgnmWdW2HeH",
        "colab_type": "code",
        "cellView": "form",
        "colab": {}
      },
      "source": [
        "#@title Table\n",
        "# app version not yet added\n",
        "rates = sql_to_df(\"\"\"\n",
        "    \n",
        "    SELECT\n",
        "        COALESCE((week_no-1)*3 + run_no, 0) AS run_no,\n",
        "        trainer_id,\n",
        "        device_os,   \n",
        "        COUNT(id) AS no_starts,\n",
        "        COUNT(CASE WHEN has_reached_halfway = 1 THEN 1 END) AS no_halfway,\n",
        "        COUNT(CASE WHEN has_finished = 1 THEN 1 END) AS no_finished,\n",
        "        ROUND(SUM(has_reached_halfway)*100.0/COUNT(id),2) AS pc_halfway_start,\n",
        "        ROUND(SUM(has_finished)*100.0/COUNT(id),2) AS pc_finish_start,\n",
        "        ROUND(SUM(has_finished)*100.0/SUM(has_reached_halfway),2) AS pc_finish_halfway\n",
        "\n",
        "    FROM\n",
        "        c25k_run\n",
        "        \n",
        "    WHERE\n",
        "        trainer_id != ''\n",
        "    GROUP BY\n",
        "        ((week_no-1)*3 + run_no),\n",
        "        trainer_id, \n",
        "        device_os\n",
        "    \"\"\")\n",
        "\n",
        "rates\n"
      ],
      "execution_count": 0,
      "outputs": []
    },
    {
      "cell_type": "code",
      "metadata": {
        "id": "xmHeytPb4LsQ",
        "colab_type": "code",
        "colab": {}
      },
      "source": [
        "alt.Chart(rates.loc[rates['device_os'] == 'ios'],\n",
        "          title='Run completion rates iOS').mark_line(\n",
        ").encode(\n",
        "    x='run_no',\n",
        "    y='pc_finish_start',\n",
        "    color='trainer_id')\n"
      ],
      "execution_count": 0,
      "outputs": []
    },
    {
      "cell_type": "code",
      "metadata": {
        "id": "-ZyPgjR16Ipe",
        "colab_type": "code",
        "colab": {}
      },
      "source": [
        "alt.Chart(rates.loc[rates['device_os'] == 'android'],\n",
        "          title='Run completion rates Android').mark_line(\n",
        ").encode(\n",
        "    x='run_no',\n",
        "    y='pc_finish_start',\n",
        "    color='trainer_id')\n"
      ],
      "execution_count": 0,
      "outputs": []
    },
    {
      "cell_type": "code",
      "metadata": {
        "id": "JJvFB5TP6kEv",
        "colab_type": "code",
        "colab": {}
      },
      "source": [
        "alt.Chart(rates.loc[rates['device_os'] == 'ios'],\n",
        "          title='Run starts iOS').mark_line(\n",
        ").encode(\n",
        "    x='run_no',\n",
        "    y='no_starts',\n",
        "    color='trainer_id')"
      ],
      "execution_count": 0,
      "outputs": []
    },
    {
      "cell_type": "code",
      "metadata": {
        "id": "nYDHS3Hs5Ta8",
        "colab_type": "code",
        "colab": {}
      },
      "source": [
        "alt.Chart(rates.loc[rates['device_os'] == 'android'],\n",
        "          title='Run starts Android').mark_line(\n",
        ").encode(\n",
        "    x='run_no',\n",
        "    y='no_starts',\n",
        "    color='trainer_id')\n"
      ],
      "execution_count": 0,
      "outputs": []
    },
    {
      "cell_type": "markdown",
      "metadata": {
        "id": "gpq_wuJrWw6u",
        "colab_type": "text"
      },
      "source": [
        "# Graduations"
      ]
    },
    {
      "cell_type": "code",
      "metadata": {
        "id": "JXsho9rVWzv8",
        "colab_type": "code",
        "colab": {}
      },
      "source": [
        "grads_all = sql_to_df(\"\"\"SELECT * FROM ec_runs_no_skips\"\"\")\n",
        "\n",
        "grads_all.head()\n"
      ],
      "execution_count": 0,
      "outputs": []
    },
    {
      "cell_type": "code",
      "metadata": {
        "id": "bb2TpMz4XFpx",
        "colab_type": "code",
        "colab": {}
      },
      "source": [
        "melted_all = pd.melt(grads_all, id_vars=['overall_run_no'], value_vars=['total_users', 'no_skip_users'])\n",
        "\n",
        "melted_all.head()\n"
      ],
      "execution_count": 0,
      "outputs": []
    },
    {
      "cell_type": "code",
      "metadata": {
        "id": "ZTe5WX8bXtIe",
        "colab_type": "code",
        "colab": {},
        "cellView": "form"
      },
      "source": [
        "#@title Viz\n",
        "alt.Chart(melted_all).mark_bar().encode(\n",
        "    #x='variable:O',\n",
        "    alt.X('variable:O', \n",
        "          sort=['total_users', 'no_skip_users'],\n",
        "          scale=alt.Scale(rangeStep=15), \n",
        "          # to hide labels add empty title\n",
        "          title=''),\n",
        "    y='value:Q',\n",
        "    color='variable:N',\n",
        "    column='overall_run_no:N'\n",
        ")\n"
      ],
      "execution_count": 0,
      "outputs": []
    },
    {
      "cell_type": "code",
      "metadata": {
        "id": "twpr_vZAEakl",
        "colab_type": "code",
        "colab": {}
      },
      "source": [
        ""
      ],
      "execution_count": 0,
      "outputs": []
    },
    {
      "cell_type": "markdown",
      "metadata": {
        "id": "auXg_NCXSzWQ",
        "colab_type": "text"
      },
      "source": [
        "# Graduations of cohort"
      ]
    },
    {
      "cell_type": "code",
      "metadata": {
        "id": "1CXA-QJX3VvU",
        "colab_type": "code",
        "colab": {}
      },
      "source": [
        "cohort_grad = sql_to_df(\"\"\"\n",
        "\n",
        "    SELECT \n",
        "        overall_run_no,\n",
        "        COUNT(*) AS total_users,\n",
        "        SUM(CASE WHEN overall_run_no = run_count THEN 1 ELSE 0 END) AS no_skip_users\n",
        "        \n",
        "    FROM\n",
        "        ec_run_stats_rank \n",
        "         \n",
        "         -- restrict to users that have completed run 1 and date started\n",
        "         INNER JOIN (SELECT device_id\n",
        "                     FROM ec_run_stats\n",
        "                     WHERE overall_run_no = 1\n",
        "                     AND no_completed > 0 \n",
        "                     AND first_started BETWEEN '2019-05-06' AND '2019-05-12'\n",
        "                     GROUP BY device_id) AS B\n",
        "         ON ec_run_stats_rank.device_id = B.device_id\n",
        "    \n",
        "    GROUP BY \n",
        "        overall_run_no\n",
        "        \"\"\")\n",
        "\n",
        "cohort_grad.head()"
      ],
      "execution_count": 0,
      "outputs": []
    },
    {
      "cell_type": "code",
      "metadata": {
        "id": "rHmxmYL075vz",
        "colab_type": "code",
        "colab": {}
      },
      "source": [
        "cohort_grad.tail()"
      ],
      "execution_count": 0,
      "outputs": []
    },
    {
      "cell_type": "code",
      "metadata": {
        "id": "-P3O-ScrZrxh",
        "colab_type": "code",
        "colab": {}
      },
      "source": [
        "melted_grad = pd.melt(cohort_grad, id_vars=['overall_run_no'], value_vars=['total_users', 'no_skip_users'])\n",
        "\n",
        "melted_grad.head()"
      ],
      "execution_count": 0,
      "outputs": []
    },
    {
      "cell_type": "code",
      "metadata": {
        "id": "4zR2nN5lXoK_",
        "colab_type": "code",
        "colab": {},
        "cellView": "form"
      },
      "source": [
        "#@title Viz\n",
        "alt.Chart(melted_grad).mark_bar().encode(\n",
        "    #x='variable:O',\n",
        "    alt.X('variable:O', \n",
        "          sort=['total_users', 'no_skip_users'],\n",
        "          scale=alt.Scale(rangeStep=15), \n",
        "          # to hide labels add empty title\n",
        "          title=''),\n",
        "    y='value:Q',\n",
        "    color='variable:N',\n",
        "    column='overall_run_no:N'\n",
        ")"
      ],
      "execution_count": 0,
      "outputs": []
    },
    {
      "cell_type": "markdown",
      "metadata": {
        "id": "QSw7RwlDkHqu",
        "colab_type": "text"
      },
      "source": [
        "# Completion times per run"
      ]
    },
    {
      "cell_type": "code",
      "metadata": {
        "id": "VIO0LsSYCxua",
        "colab_type": "code",
        "colab": {}
      },
      "source": [
        "# increase the max number of rows for altair plot\n",
        "from altair import pipe, limit_rows, to_values\n",
        "t = lambda data: pipe(data, limit_rows(max_rows=1000000), to_values)\n",
        "alt.data_transformers.register('custom', t)\n",
        "alt.data_transformers.enable('custom')"
      ],
      "execution_count": 0,
      "outputs": []
    },
    {
      "cell_type": "code",
      "metadata": {
        "id": "hZ42ne_khu38",
        "colab_type": "code",
        "colab": {}
      },
      "source": [
        "run_stats = sql_to_df(\"\"\"\n",
        "    SELECT\n",
        "        overall_run_no,\n",
        "        time_taken,\n",
        "        week_no\n",
        "    FROM\n",
        "        ec_run_stats\n",
        "    \"\"\")\n",
        "\n",
        "run_stats.head()\n"
      ],
      "execution_count": 0,
      "outputs": []
    },
    {
      "cell_type": "code",
      "metadata": {
        "id": "rpf0evTxb-FL",
        "colab_type": "code",
        "colab": {},
        "cellView": "form"
      },
      "source": [
        "#@title Viz: Times taken per run where time_taken > 0\n",
        "alt.Chart(run_stats.loc[run_stats['time_taken'] > 0], \n",
        "          title='Time taken to complete run').mark_boxplot(\n",
        "    extent='min-max', size=20).encode(\n",
        "    x='overall_run_no:O',\n",
        "    y='time_taken:Q',\n",
        "    color='week_no:N'\n",
        ").properties(width=1000, height=500).configure_axis(\n",
        "    grid=False\n",
        ")"
      ],
      "execution_count": 0,
      "outputs": []
    },
    {
      "cell_type": "code",
      "metadata": {
        "id": "5WULyPJqGCmT",
        "colab_type": "code",
        "colab": {}
      },
      "source": [
        "# median time taken where time taken > 0\n",
        "median = run_stats.loc[run_stats['time_taken'] > 0].groupby(\n",
        "    ['overall_run_no', 'week_no'],\n",
        "    as_index=False)['time_taken'].median()\n",
        "\n",
        "median.head()\n"
      ],
      "execution_count": 0,
      "outputs": []
    },
    {
      "cell_type": "code",
      "metadata": {
        "id": "rNxIHozIa4Z2",
        "colab_type": "code",
        "colab": {},
        "cellView": "form"
      },
      "source": [
        "#@title Viz: Median time taken to complete run where time_taken > 0\n",
        "alt.Chart(median,\n",
        "          title='Median time taken to complete run where time_taken > 0').mark_bar(\n",
        "    size=20).encode(\n",
        "    x='overall_run_no',\n",
        "    y='time_taken',\n",
        "    color='week_no:N'\n",
        ").properties(width=1000, height=500)\n"
      ],
      "execution_count": 0,
      "outputs": []
    },
    {
      "cell_type": "code",
      "metadata": {
        "id": "4GSv6mAoH5S6",
        "colab_type": "code",
        "colab": {}
      },
      "source": [
        "# mean time taken\n",
        "mean = run_stats.groupby(\n",
        "    ['overall_run_no', 'week_no'],\n",
        "    as_index=False)['time_taken'].mean()\n",
        "\n",
        "mean.head()\n"
      ],
      "execution_count": 0,
      "outputs": []
    },
    {
      "cell_type": "code",
      "metadata": {
        "id": "EYEZcjJaH-3K",
        "colab_type": "code",
        "colab": {},
        "cellView": "form"
      },
      "source": [
        "#@title Viz: Mean time taken to complete run (including t=0)\n",
        "alt.Chart(mean,\n",
        "          title='Mean time taken to complete run').mark_bar(\n",
        "    size=20).encode(\n",
        "    x='overall_run_no',\n",
        "    y='time_taken',\n",
        "    color='week_no:N'\n",
        ").properties(width=1000, height=500)\n"
      ],
      "execution_count": 0,
      "outputs": []
    },
    {
      "cell_type": "markdown",
      "metadata": {
        "id": "83a5nNZjFNpa",
        "colab_type": "text"
      },
      "source": [
        "# Completion times per run - cohort "
      ]
    },
    {
      "cell_type": "code",
      "metadata": {
        "id": "bApmnbiW_pmg",
        "colab_type": "code",
        "colab": {}
      },
      "source": [
        "run_stats_c = sql_to_df(\"\"\"\n",
        "    SELECT\n",
        "        overall_run_no,\n",
        "        time_taken,\n",
        "        week_no\n",
        "    FROM\n",
        "        ec_run_stats\n",
        "    WHERE\n",
        "        DATE(first_completed) BETWEEN '2019-05-06' AND '2019-05-12'\n",
        "    \"\"\")\n",
        "\n",
        "run_stats_c.head()\n"
      ],
      "execution_count": 0,
      "outputs": []
    },
    {
      "cell_type": "code",
      "metadata": {
        "id": "0AmN9IWVIyPu",
        "colab_type": "code",
        "colab": {},
        "cellView": "form"
      },
      "source": [
        "#@title Viz: Cohort - Time taken per run where time_taken > 0\n",
        "alt.Chart(run_stats_c.loc[run_stats_c['time_taken'] > 0], \n",
        "          title='Cohort - Time taken to complete run where t > 0').mark_boxplot(\n",
        "    extent='min-max', size=20).encode(\n",
        "    x='overall_run_no:O',\n",
        "    y='time_taken:Q',\n",
        "    color='week_no:N'\n",
        ").properties(width=1000, height=500).configure_axis(\n",
        "    grid=False\n",
        ")"
      ],
      "execution_count": 0,
      "outputs": []
    },
    {
      "cell_type": "code",
      "metadata": {
        "id": "cIjNb4ofJgTa",
        "colab_type": "code",
        "colab": {}
      },
      "source": [
        "# median time taken where time taken > 0\n",
        "median_c = run_stats_c.loc[run_stats_c['time_taken'] > 0].groupby(\n",
        "    ['overall_run_no', 'week_no'],\n",
        "    as_index=False)['time_taken'].median()\n",
        "\n",
        "median_c.head()\n"
      ],
      "execution_count": 0,
      "outputs": []
    },
    {
      "cell_type": "code",
      "metadata": {
        "id": "LilFPg5pJqEp",
        "colab_type": "code",
        "colab": {},
        "cellView": "form"
      },
      "source": [
        "#@title Viz: Cohort - Median time taken to complete run where time_taken > 0\n",
        "alt.Chart(median_c,\n",
        "          title='Cohort - Median time taken to complete run where time_taken > 0').mark_bar(\n",
        "    size=20).encode(\n",
        "    x='overall_run_no',\n",
        "    y='time_taken',\n",
        "    color='week_no:N'\n",
        ").properties(width=1000, height=500)\n"
      ],
      "execution_count": 0,
      "outputs": []
    },
    {
      "cell_type": "code",
      "metadata": {
        "id": "PSzpa3MpJFZk",
        "colab_type": "code",
        "colab": {}
      },
      "source": [
        "# mean time taken cohort\n",
        "mean_c = run_stats_c.groupby(\n",
        "    ['overall_run_no', 'week_no'],\n",
        "    as_index=False)['time_taken'].mean()\n",
        "\n",
        "mean_c.head()\n"
      ],
      "execution_count": 0,
      "outputs": []
    },
    {
      "cell_type": "code",
      "metadata": {
        "id": "Gs0GTbSzJV4w",
        "colab_type": "code",
        "colab": {},
        "cellView": "form"
      },
      "source": [
        "#@title Viz: Cohort - Mean time taken to complete run (including t=0)\n",
        "alt.Chart(mean_c,\n",
        "          title='Cohort - Mean time taken to complete run').mark_bar(\n",
        "    size=20).encode(\n",
        "    x='overall_run_no',\n",
        "    y='time_taken',\n",
        "    color='week_no:N'\n",
        ").properties(width=1000, height=500)\n"
      ],
      "execution_count": 0,
      "outputs": []
    },
    {
      "cell_type": "markdown",
      "metadata": {
        "id": "8Hk_rRu1dK-x",
        "colab_type": "text"
      },
      "source": [
        "# Completion times of the programme"
      ]
    },
    {
      "cell_type": "code",
      "metadata": {
        "id": "8TQXnFBEH4-M",
        "colab_type": "code",
        "colab": {}
      },
      "source": [
        "df = sql_to_df(\"\"\"\n",
        "    SELECT\n",
        "        device_id,\n",
        "        overall_run_no,\n",
        "        first_completed\n",
        "    FROM\n",
        "        ec_run_stats\"\"\")\n",
        "\n",
        "df.head()"
      ],
      "execution_count": 0,
      "outputs": []
    },
    {
      "cell_type": "code",
      "metadata": {
        "id": "0U0hR8vZdbBi",
        "colab_type": "code",
        "colab": {}
      },
      "source": [
        "# create dataframes for first and last run completed\n",
        "first = df.loc[df['overall_run_no'] == 1]\n",
        "last = df.loc[df['overall_run_no'] == 27]\n",
        "\n",
        "# inner join the two dataframes\n",
        "result = first.merge(\n",
        "    last,\n",
        "    on='device_id',\n",
        "    how='inner',\n",
        "    suffixes=('_1', '_27'))\n",
        "\n",
        "result.head()\n"
      ],
      "execution_count": 0,
      "outputs": []
    },
    {
      "cell_type": "code",
      "metadata": {
        "id": "ajgwlBZSivJ6",
        "colab_type": "code",
        "colab": {}
      },
      "source": [
        "# sense checking by checking random user from 'result'\n",
        "df.loc[df['device_id'] == '006253AB-CE4A-4533-919E-71807FC21E7C']\n"
      ],
      "execution_count": 0,
      "outputs": []
    },
    {
      "cell_type": "code",
      "metadata": {
        "id": "fzkjnIGqkwa8",
        "colab_type": "code",
        "colab": {}
      },
      "source": [
        "# use dt.days to convert timedeltas to float\n",
        "result['timedelta'] = (\n",
        "    result['first_completed_27'] - result['first_completed_1']\n",
        ").dt.days\n",
        "\n",
        "result.head()\n"
      ],
      "execution_count": 0,
      "outputs": []
    },
    {
      "cell_type": "code",
      "metadata": {
        "id": "Oltez8yMnpnR",
        "colab_type": "code",
        "colab": {}
      },
      "source": [
        "# remove NaN\n",
        "result.dropna(axis=0, inplace=True)\n",
        "\n",
        "result.head()\n"
      ],
      "execution_count": 0,
      "outputs": []
    },
    {
      "cell_type": "code",
      "metadata": {
        "id": "Y03Iwl2GtFTc",
        "colab_type": "code",
        "colab": {}
      },
      "source": [
        "# data cleaning as some deltas are negative\n",
        "# create a mask for plot slice\n",
        "clean = result['timedelta'] > 0\n"
      ],
      "execution_count": 0,
      "outputs": []
    },
    {
      "cell_type": "code",
      "metadata": {
        "id": "U3VTlOdcq6tF",
        "colab_type": "code",
        "colab": {},
        "cellView": "form"
      },
      "source": [
        "#@title Viz: Days between first and last run\n",
        "result.loc[clean].boxplot(\n",
        "    column='timedelta', \n",
        "    figsize=(12,10)\n",
        ");\n"
      ],
      "execution_count": 0,
      "outputs": []
    },
    {
      "cell_type": "code",
      "metadata": {
        "id": "1OvsVyp8-c7t",
        "colab_type": "code",
        "colab": {}
      },
      "source": [
        "# final dataframe to replicate in SQL\n",
        "result.loc[clean].filter(\n",
        "    items=[\n",
        "        'device_id',\n",
        "        'first_completed_1',\n",
        "        'first_completed_27',\n",
        "        'timedelta'\n",
        "    ]\n",
        ").head()\n"
      ],
      "execution_count": 0,
      "outputs": []
    }
  ]
}
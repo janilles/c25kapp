{
  "nbformat": 4,
  "nbformat_minor": 0,
  "metadata": {
    "colab": {
      "name": "couch_runs.ipynb",
      "provenance": [],
      "collapsed_sections": [
        "cjG0f33f_AgN",
        "wQFpvB4tVw0P"
      ],
      "toc_visible": true,
      "include_colab_link": true
    },
    "kernelspec": {
      "name": "python3",
      "display_name": "Python 3"
    },
    "accelerator": "GPU"
  },
  "cells": [
    {
      "cell_type": "markdown",
      "metadata": {
        "id": "view-in-github",
        "colab_type": "text"
      },
      "source": [
        "<a href=\"https://colab.research.google.com/github/janilles/couch/blob/master/couch_runs.ipynb\" target=\"_parent\"><img src=\"https://colab.research.google.com/assets/colab-badge.svg\" alt=\"Open In Colab\"/></a>"
      ]
    },
    {
      "cell_type": "markdown",
      "metadata": {
        "id": "g8HkPW_ps6gJ",
        "colab_type": "text"
      },
      "source": [
        "# Boilerplate"
      ]
    },
    {
      "cell_type": "code",
      "metadata": {
        "id": "VjQn5aaIit2-",
        "colab_type": "code",
        "colab": {}
      },
      "source": [
        "# added -q for suppressing output\n",
        "!pip install -q -U pymysql\n",
        "\n",
        "import pymysql\n",
        "import pandas as pd\n",
        "import altair as alt\n"
      ],
      "execution_count": 0,
      "outputs": []
    },
    {
      "cell_type": "markdown",
      "metadata": {
        "id": "nYWwIhzh-vax",
        "colab_type": "text"
      },
      "source": [
        "# Database connection\n",
        "\n"
      ]
    },
    {
      "cell_type": "code",
      "metadata": {
        "id": "eCEEfGBHiyQV",
        "colab_type": "code",
        "colab": {}
      },
      "source": [
        "def connect():\n",
        "    return pymysql.connect(\n",
        "        host='',\n",
        "        port=,\n",
        "        user='',\n",
        "        passwd='',\n",
        "        db='',\n",
        "        autocommit=True\n",
        "        )\n",
        "\n",
        "connection = connect()\n",
        "\n",
        "def sql_to_df(sql):\n",
        "    return pd.read_sql(sql, con=connection)\n"
      ],
      "execution_count": 0,
      "outputs": []
    },
    {
      "cell_type": "markdown",
      "metadata": {
        "id": "cjG0f33f_AgN",
        "colab_type": "text"
      },
      "source": [
        "# Database tables"
      ]
    },
    {
      "cell_type": "code",
      "metadata": {
        "id": "w_xtU-sMCSWb",
        "colab_type": "code",
        "colab": {}
      },
      "source": [
        "tables = sql_to_df(\"\"\"SHOW TABLES\"\"\")\n",
        "\n",
        "tables\n"
      ],
      "execution_count": 0,
      "outputs": []
    },
    {
      "cell_type": "code",
      "metadata": {
        "id": "sEix0iPfwl7w",
        "colab_type": "code",
        "colab": {}
      },
      "source": [
        "events = sql_to_df(\"\"\"\n",
        "    select\n",
        "        *\n",
        "    from\n",
        "        c25k_app_event\n",
        "    \"\"\")\n",
        "\n",
        "events.head()\n"
      ],
      "execution_count": 0,
      "outputs": []
    },
    {
      "cell_type": "markdown",
      "metadata": {
        "id": "ZeZBwZ54cVyS",
        "colab_type": "text"
      },
      "source": [
        "## Tables described"
      ]
    },
    {
      "cell_type": "code",
      "metadata": {
        "id": "d9GXKTTd5CWF",
        "colab_type": "code",
        "colab": {}
      },
      "source": [
        "sql_to_df(\"\"\"DESCRIBE ec_run_completion\"\"\")"
      ],
      "execution_count": 0,
      "outputs": []
    },
    {
      "cell_type": "code",
      "metadata": {
        "id": "4q3neACB81al",
        "colab_type": "code",
        "colab": {}
      },
      "source": [
        "sql_to_df(\"\"\"SELECT * FROM ec_run_completion LIMIT 5\"\"\")"
      ],
      "execution_count": 0,
      "outputs": []
    },
    {
      "cell_type": "code",
      "metadata": {
        "id": "nK_tYZIgbz3J",
        "colab_type": "code",
        "colab": {}
      },
      "source": [
        "sql_to_df(\"\"\"DESCRIBE c25k_user_goal\"\"\")"
      ],
      "execution_count": 0,
      "outputs": []
    },
    {
      "cell_type": "code",
      "metadata": {
        "id": "DDsZvfLIcIMl",
        "colab_type": "code",
        "colab": {}
      },
      "source": [
        "sql_to_df(\"\"\"DESCRIBE c25k_device\"\"\")"
      ],
      "execution_count": 0,
      "outputs": []
    },
    {
      "cell_type": "code",
      "metadata": {
        "id": "1l1LKQTzbsLO",
        "colab_type": "code",
        "colab": {}
      },
      "source": [
        "sql_to_df(\"\"\"DESCRIBE c25k_run\"\"\")"
      ],
      "execution_count": 0,
      "outputs": []
    },
    {
      "cell_type": "code",
      "metadata": {
        "id": "ftKTjQYLcNT1",
        "colab_type": "code",
        "colab": {}
      },
      "source": [
        "sql_to_df(\"\"\"DESCRIBE c25k_trainer_log\"\"\")"
      ],
      "execution_count": 0,
      "outputs": []
    },
    {
      "cell_type": "code",
      "metadata": {
        "id": "HF-5AOWTC8wg",
        "colab_type": "code",
        "colab": {}
      },
      "source": [
        "sql_to_df(\"\"\"DESCRIBE error_log\"\"\")"
      ],
      "execution_count": 0,
      "outputs": []
    },
    {
      "cell_type": "markdown",
      "metadata": {
        "id": "wQFpvB4tVw0P",
        "colab_type": "text"
      },
      "source": [
        "# Data sense-checking"
      ]
    },
    {
      "cell_type": "markdown",
      "metadata": {
        "id": "Dq0QgjFWNrdw",
        "colab_type": "text"
      },
      "source": [
        "## Users with too many runs started in one day"
      ]
    },
    {
      "cell_type": "code",
      "metadata": {
        "id": "a5RXMKwFNquh",
        "colab_type": "code",
        "colab": {}
      },
      "source": [
        "started_runs_by_day = sql_to_df(\"\"\"\n",
        "    SELECT\n",
        "        device_id,\n",
        "        DATE(started_at) AS date,\n",
        "        COUNT(id) AS runs_started\n",
        "    FROM\n",
        "        c25k_run\n",
        "    GROUP BY\n",
        "        device_id,\n",
        "        date\n",
        "    ORDER BY\n",
        "        runs_started DESC\"\"\")\n",
        "\n",
        "started_runs_by_day.head(10)\n"
      ],
      "execution_count": 0,
      "outputs": []
    },
    {
      "cell_type": "markdown",
      "metadata": {
        "id": "NjX5OKG6QC0z",
        "colab_type": "text"
      },
      "source": [
        "### In proportion with all users running"
      ]
    },
    {
      "cell_type": "code",
      "metadata": {
        "id": "bWzQWHpiQCCl",
        "colab_type": "code",
        "colab": {}
      },
      "source": [
        "# .sum() added so it returns a number\n",
        "all_users_running = sql_to_df(\"\"\"\n",
        "    SELECT\n",
        "        COUNT(DISTINCT device_id) AS runners\n",
        "    FROM\n",
        "        c25k_run\"\"\")['runners'].sum()\n",
        "\n",
        "# conditions for dataframe slicing\n",
        "condition_3 = started_runs_by_day['runs_started'] > 3\n",
        "condition_1 = started_runs_by_day['runs_started'] == 1\n",
        "\n",
        "# device counts based on conditions\n",
        "more_than_3 = started_runs_by_day[condition_3]['device_id'].nunique()\n",
        "just_1_started = started_runs_by_day[condition_1]['device_id'].nunique()\n",
        "\n",
        "# calculations rounded to 1 decimal\n",
        "percent_3 = round(more_than_3 / all_users_running * 100, 1)\n",
        "percent_1 = round(just_1_started / all_users_running * 100, 1)\n",
        "\n",
        "print(f\"All users with runs in the databse: {all_users_running}\")\n",
        "print(f\"Users with three plus started runs in one day: {more_than_3}\")\n",
        "print(f\"Percentage of three plus from all users: {percent_3}%\")\n",
        "print(f\"Just one started run in a day: {just_1_started}\")\n",
        "print(f\"Percentage of just one from all users: {percent_1}%\")\n"
      ],
      "execution_count": 0,
      "outputs": []
    },
    {
      "cell_type": "markdown",
      "metadata": {
        "id": "-fkAt8JDP8LN",
        "colab_type": "text"
      },
      "source": [
        "## Users with too many runs finished in one day"
      ]
    },
    {
      "cell_type": "code",
      "metadata": {
        "id": "-bU5AksLPYPS",
        "colab_type": "code",
        "colab": {}
      },
      "source": [
        "runs_finished_by_day = sql_to_df(\"\"\"\n",
        "    SELECT\n",
        "        device_id,\n",
        "        DATE(started_at) AS date,\n",
        "        COUNT(id) AS runs_finished\n",
        "    FROM\n",
        "        c25k_run\n",
        "    WHERE\n",
        "        has_finished = 1\n",
        "    GROUP BY\n",
        "        device_id,\n",
        "        date\n",
        "    ORDER BY\n",
        "        runs_finished DESC\"\"\")\n",
        "\n",
        "runs_finished_by_day.head(10)\n"
      ],
      "execution_count": 0,
      "outputs": []
    },
    {
      "cell_type": "markdown",
      "metadata": {
        "id": "Oguid9mnqWPE",
        "colab_type": "text"
      },
      "source": [
        "### In proportion with all users finishing runs"
      ]
    },
    {
      "cell_type": "code",
      "metadata": {
        "id": "AAfk9vjcqRz4",
        "colab_type": "code",
        "colab": {}
      },
      "source": [
        "# .sum() added so it doesn't return a dataframe but a figure\n",
        "all_users_finishing = sql_to_df(\"\"\"\n",
        "    SELECT\n",
        "        COUNT(DISTINCT device_id) AS finishers\n",
        "    FROM\n",
        "        c25k_run\n",
        "    WHERE\n",
        "        has_finished = 1\n",
        "    \"\"\")['finishers'].sum()\n",
        "\n",
        "# conditions for dataframe slicing\n",
        "condition_2f = runs_finished_by_day['runs_finished'] > 1\n",
        "condition_1f = runs_finished_by_day['runs_finished'] == 1\n",
        "\n",
        "# device counts based on conditions\n",
        "finished_2plus = runs_finished_by_day[condition_2f]['device_id'].nunique()\n",
        "finished_1 = runs_finished_by_day[condition_1f]['device_id'].nunique()\n",
        "\n",
        "# calculations rounded to 1 decimal\n",
        "percent_2f = round(finished_2plus / all_users_finishing * 100, 1)\n",
        "percent_1f = round(finished_1 / all_users_finishing * 100, 1)\n",
        "\n",
        "print(f\"All users with runs finished: {all_users_finishing}\")\n",
        "print(f\"Users with two or more runs finished in one day: {finished_2plus}\")\n",
        "print(f\"Percentage of two or more... from all users: {percent_2f}%\")\n",
        "print(f\"Just one finished run in a day: {finished_1}\")\n",
        "print(f\"Percentage of just one from all users: {percent_1f}%\")\n"
      ],
      "execution_count": 0,
      "outputs": []
    },
    {
      "cell_type": "markdown",
      "metadata": {
        "id": "QNMthx7SOyX_",
        "colab_type": "text"
      },
      "source": [
        "## Users with many runs finished in a day by device OS"
      ]
    },
    {
      "cell_type": "code",
      "metadata": {
        "id": "L9amByNINroO",
        "colab_type": "code",
        "colab": {}
      },
      "source": [
        "runs_finished_by_day_os = sql_to_df(\"\"\"\n",
        "    SELECT\n",
        "        device_id,\n",
        "        device_os,\n",
        "        DATE(started_at) AS date,\n",
        "        COUNT(id) AS runs_finished\n",
        "    FROM\n",
        "        c25k_run\n",
        "    WHERE\n",
        "        has_finished = 1\n",
        "    GROUP BY\n",
        "        device_id,\n",
        "        date\n",
        "    ORDER BY\n",
        "        runs_finished DESC\"\"\")\n",
        "\n",
        "runs_finished_by_day_os.head()\n"
      ],
      "execution_count": 0,
      "outputs": []
    },
    {
      "cell_type": "code",
      "metadata": {
        "id": "9Wez-P-5OGg-",
        "colab_type": "code",
        "colab": {}
      },
      "source": [
        "# just a sample of the worst cases\n",
        "ten_or_more = runs_finished_by_day_os['runs_finished'] > 9\n",
        "\n",
        "runs_finished_by_day_os.loc[ten_or_more].groupby(\n",
        "    'device_os',\n",
        "    as_index=False)['device_id'].count()\n"
      ],
      "execution_count": 0,
      "outputs": []
    },
    {
      "cell_type": "markdown",
      "metadata": {
        "id": "RN30rNsJHiKg",
        "colab_type": "text"
      },
      "source": [
        "# Runs overview"
      ]
    },
    {
      "cell_type": "code",
      "metadata": {
        "id": "1OELA51u7Pyx",
        "colab_type": "code",
        "cellView": "both",
        "colab": {}
      },
      "source": [
        "#@title Default title text\n",
        "overview = sql_to_df(\"\"\"\n",
        "    SELECT\n",
        "        id,\n",
        "        device_id,\n",
        "        device_os,\n",
        "        has_reached_halfway,\n",
        "        has_finished,\n",
        "        lat\n",
        "    FROM\n",
        "        c25k_run\n",
        "    \"\"\")\n",
        "\n",
        "_runners = overview['device_id'].nunique()\n",
        "print(f\"Users running: {_runners}\")\n",
        "\n",
        "_started = overview['id'].nunique()\n",
        "print(f\"Runs started:  {_started}\")\n",
        "\n",
        "_condition_h = overview['has_reached_halfway'] == 1\n",
        "_halfway = overview[_condition_h]['id'].nunique()\n",
        "print(f\"Runs halfway:  {_halfway}\")\n",
        "\n",
        "_condition_f = overview['has_finished'] == 1\n",
        "_finished = overview[_condition_f]['id'].nunique()\n",
        "print(f\"Runs finished: {_finished}\")\n",
        "\n",
        "_condition_lat = overview['lat'] != 0\n",
        "_runs_with_loc = overview[_condition_lat]['id'].nunique()\n",
        "_calc_runs = round(_runs_with_loc / _started * 100, 1)\n",
        "print(f\"Runs with location data: {_calc_runs}%\")\n",
        "\n",
        "_runners_with_loc = overview[_condition_lat]['device_id'].nunique()\n",
        "_calc_runners = round(_runners_with_loc / _runners * 100, 1)\n",
        "print(f\"Users with location data: {_calc_runners}%\")\n"
      ],
      "execution_count": 0,
      "outputs": []
    },
    {
      "cell_type": "markdown",
      "metadata": {
        "id": "PCdN3TjCkYwS",
        "colab_type": "text"
      },
      "source": [
        "# Completion rates for each run "
      ]
    },
    {
      "cell_type": "code",
      "metadata": {
        "id": "nlwwdpFgcrIA",
        "colab_type": "code",
        "cellView": "code",
        "colab": {}
      },
      "source": [
        "runs = sql_to_df(\"\"\"\n",
        "    SELECT\n",
        "        (week_no - 1)*3 + run_no AS run,\n",
        "        id AS started,\n",
        "        has_reached_halfway AS halfway,\n",
        "        has_finished AS finished,\n",
        "        device_os AS os,\n",
        "        trainer_id AS trainer,\n",
        "        DATE(started_at) AS date\n",
        "    FROM\n",
        "        c25k_run\n",
        "    WHERE -- data cleaning known issues\n",
        "        run_no > 0 \n",
        "        AND\n",
        "        trainer_id != ''\n",
        "    \"\"\")\n",
        "\n",
        "# change dtypes from 'object' on these columns\n",
        "runs = runs.astype({\n",
        "    'os': 'category',\n",
        "    'trainer': 'category',\n",
        "    'date': 'datetime64'\n",
        "    })\n",
        "\n",
        "runs.head()\n"
      ],
      "execution_count": 0,
      "outputs": []
    },
    {
      "cell_type": "code",
      "metadata": {
        "id": "q_9Lx_rkTsNs",
        "colab_type": "code",
        "colab": {}
      },
      "source": [
        "runs.info()"
      ],
      "execution_count": 0,
      "outputs": []
    },
    {
      "cell_type": "code",
      "metadata": {
        "id": "UfWyi6RHZBOu",
        "colab_type": "code",
        "colab": {},
        "cellView": "form"
      },
      "source": [
        "#@title All runs - no filtering\n",
        "run_completions = runs.groupby(\n",
        "    'run', as_index=False).agg({\n",
        "    'started': 'count',\n",
        "    'halfway': 'sum',\n",
        "    'finished': 'sum'\n",
        "    })\n",
        "\n",
        "# calculate pc values for new columns \n",
        "run_completions['fin_from_start'] = round(\n",
        "    run_completions['finished'] / run_completions['started']*100, 1)\n",
        "\n",
        "run_completions['hw_from_start'] = round(\n",
        "    run_completions['halfway'] / run_completions['started']*100, 1)\n",
        "\n",
        "run_completions['fin_from_hw'] = round(\n",
        "    run_completions['finished'] / run_completions['started']*100, 1)\n",
        "\n",
        "# add conditional formatting to relevant columns\n",
        "run_completions.style.background_gradient(\n",
        "    cmap='RdYlGn',\n",
        "    subset=['fin_from_start', 'hw_from_start', 'fin_from_hw']\n",
        "    )\n"
      ],
      "execution_count": 0,
      "outputs": []
    },
    {
      "cell_type": "code",
      "metadata": {
        "id": "iccvlUUzeBG-",
        "colab_type": "code",
        "colab": {},
        "cellView": "form"
      },
      "source": [
        "#@title Run completions explorer - filter by parameter\n",
        "device_OS = \"android\" #@param [\"ios\", \"android\"]\n",
        "trainer_name = \"Sarah Millican\" #@param [\"Laura\", \"Sarah Millican\", \"Jo Whiley\", \"Michael Johnson\", \"Sanjeev Kohli\"]\n",
        "month_name = \"June\" #@param [\"May\", \"June\", \"July\", \"August\", \"September\", \"October\", \"November\"]\n",
        "\n",
        "\n",
        "# dataframe slicing condition\n",
        "os_condition = runs['os'] == device_OS\n",
        "trainer_condition = runs['trainer'] == trainer_name\n",
        "trainer_condition = runs['trainer'] == trainer_name\n",
        "month_condition = runs.date.dt.month_name() == month_name\n",
        "\n",
        "filters = (os_condition) & (trainer_condition) & (month_condition) #@param [\"(os_condition)\", \"(os_condition) & (trainer_condition)\", \"(os_condition) & (month_condition)\", \"(os_condition) & (trainer_condition) & (month_condition)\"] {type:\"raw\"}\n",
        "\n",
        "run_completions = runs[filters].groupby(\n",
        "    'run', as_index=False).agg({\n",
        "    'started': 'count',\n",
        "    'halfway': 'sum',\n",
        "    'finished': 'sum'\n",
        "    })\n",
        "\n",
        "# calculate pc values for new columns \n",
        "run_completions['fin_from_start'] = round(\n",
        "    run_completions['finished'] / run_completions['started']*100, 1)\n",
        "\n",
        "run_completions['hw_from_start'] = round(\n",
        "    run_completions['halfway'] / run_completions['started']*100, 1)\n",
        "\n",
        "run_completions['fin_from_hw'] = round(\n",
        "    run_completions['finished'] / run_completions['started']*100, 1)\n",
        "\n",
        "# add conditional formatting to relevant columns\n",
        "run_completions.style.background_gradient(\n",
        "    cmap='RdYlGn',\n",
        "    subset=['fin_from_start', 'hw_from_start', 'fin_from_hw']\n",
        "    )\n"
      ],
      "execution_count": 0,
      "outputs": []
    },
    {
      "cell_type": "markdown",
      "metadata": {
        "id": "8boB7ip4bSNS",
        "colab_type": "text"
      },
      "source": [
        "### Export dataframe as CSV"
      ]
    },
    {
      "cell_type": "code",
      "metadata": {
        "id": "qYO2xkbIuB7B",
        "colab_type": "code",
        "colab": {}
      },
      "source": [
        "# from google.colab import files\n",
        "\n",
        "# run_completions.to_csv('df.csv')\n",
        "# files.download('df.csv')"
      ],
      "execution_count": 0,
      "outputs": []
    },
    {
      "cell_type": "markdown",
      "metadata": {
        "id": "sjm_uCl7Pywj",
        "colab_type": "text"
      },
      "source": [
        "# Runs basics"
      ]
    },
    {
      "cell_type": "markdown",
      "metadata": {
        "id": "GMTXuTKWS0OH",
        "colab_type": "text"
      },
      "source": [
        "## Runs by day"
      ]
    },
    {
      "cell_type": "code",
      "metadata": {
        "id": "96lI__w7cY3H",
        "colab_type": "code",
        "colab": {}
      },
      "source": [
        "runs_by_date = sql_to_df(\"\"\"\n",
        "    SELECT\n",
        "        DATE(started_at) AS date,\n",
        "        COUNT(id) AS runs_started\n",
        "    FROM\n",
        "        c25k_run\n",
        "    WHERE\n",
        "        DATE(started_at) BETWEEN '2019-04-28' AND '2019-09-30' -- data cleaning\n",
        "    GROUP BY\n",
        "        date\n",
        "    \"\"\")\n",
        "\n",
        "# this is necessary as the 'date' is an object, not datetime\n",
        "runs_by_date['date'] = pd.to_datetime(runs_by_date['date'])\n",
        "\n",
        "# chart from Altair viz example gallery\n",
        "bar = alt.Chart(runs_by_date).mark_bar().encode(\n",
        "    x='date:T',\n",
        "    y='runs_started:Q'\n",
        ")\n",
        "\n",
        "rule = alt.Chart(runs_by_date).mark_rule(color='red').encode(\n",
        "    y='mean(runs_started):Q'\n",
        ")\n",
        "\n",
        "(bar + rule).properties(width=600)\n"
      ],
      "execution_count": 0,
      "outputs": []
    },
    {
      "cell_type": "markdown",
      "metadata": {
        "id": "EJh3f6ivITES",
        "colab_type": "text"
      },
      "source": [
        "## Runs by hour of day"
      ]
    },
    {
      "cell_type": "code",
      "metadata": {
        "id": "FO2JZoRBH-Qn",
        "colab_type": "code",
        "colab": {}
      },
      "source": [
        "# count of run IDs per weekday and hour averaged\n",
        "runs_by_hour = sql_to_df(\"\"\"\n",
        "    SELECT\n",
        "        s.weekday,\n",
        "        s.hour,\n",
        "        AVG(s.runs) AS avg_runs\n",
        "    FROM\n",
        "        (\n",
        "        SELECT\n",
        "            WEEKDAY(started_at) AS weekday,\n",
        "            HOUR(started_at) AS hour,\n",
        "            COUNT(id) AS runs\n",
        "        FROM\n",
        "            c25k_run\n",
        "        GROUP BY\n",
        "            weekday,\n",
        "            hour\n",
        "        ) s\n",
        "    GROUP BY\n",
        "        s.weekday,\n",
        "        s.hour\n",
        "    \"\"\")\n",
        "\n",
        "runs_by_hour.head()\n"
      ],
      "execution_count": 0,
      "outputs": []
    },
    {
      "cell_type": "code",
      "metadata": {
        "id": "rGkcnQvLJFZn",
        "colab_type": "code",
        "colab": {}
      },
      "source": [
        "highlight = alt.selection(type='single',\n",
        "                          on='mouseover',\n",
        "                          fields=['weekday'],\n",
        "                          nearest=True)\n",
        "\n",
        "base = alt.Chart(runs_by_hour, \n",
        "                 title='Avg. number of runs by hour of day').encode(\n",
        "    x='hour:N',\n",
        "    y='avg_runs:Q',\n",
        "    color='weekday:N'\n",
        ")\n",
        "\n",
        "points = base.mark_circle().encode(\n",
        "    opacity=alt.value(0)\n",
        ").add_selection(\n",
        "    highlight\n",
        ").properties(\n",
        "    width=600\n",
        ")\n",
        "\n",
        "lines = base.mark_line().encode(\n",
        "    size=alt.condition(~highlight, alt.value(1), alt.value(3))\n",
        ")\n",
        "\n",
        "points + lines"
      ],
      "execution_count": 0,
      "outputs": []
    },
    {
      "cell_type": "markdown",
      "metadata": {
        "id": "yz_XVvbxq-lu",
        "colab_type": "text"
      },
      "source": [
        "## Runs started"
      ]
    },
    {
      "cell_type": "code",
      "metadata": {
        "id": "EgWMEHrKjdaw",
        "colab_type": "code",
        "colab": {}
      },
      "source": [
        "run_starts = sql_to_df(\"\"\"\n",
        "    SELECT\n",
        "        COUNT(DISTINCT device_id) AS users,\n",
        "        week_no,\n",
        "        run_no\n",
        "    FROM\n",
        "        c25k_run\n",
        "    WHERE\n",
        "        run_no > 0\n",
        "    GROUP BY\n",
        "        week_no,\n",
        "        run_no\n",
        "    \"\"\")\n",
        "\n",
        "alt.Chart(\n",
        "    run_starts,\n",
        "    title='Runs started'\n",
        "         ).mark_bar(\n",
        ").encode(\n",
        "    x='run_no:O',\n",
        "    y='users:Q',\n",
        "    color='run_no:N',\n",
        "    column='week_no:N'\n",
        ")\n"
      ],
      "execution_count": 0,
      "outputs": []
    }
  ]
}
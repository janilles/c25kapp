{
  "nbformat": 4,
  "nbformat_minor": 0,
  "metadata": {
    "colab": {
      "name": "couch_trainers.ipynb",
      "version": "0.3.2",
      "provenance": [],
      "collapsed_sections": [],
      "toc_visible": true,
      "include_colab_link": true
    },
    "kernelspec": {
      "name": "python3",
      "display_name": "Python 3"
    },
    "accelerator": "GPU"
  },
  "cells": [
    {
      "cell_type": "markdown",
      "metadata": {
        "id": "view-in-github",
        "colab_type": "text"
      },
      "source": [
        "<a href=\"https://colab.research.google.com/github/janilles/couch/blob/master/couch_trainers.ipynb\" target=\"_parent\"><img src=\"https://colab.research.google.com/assets/colab-badge.svg\" alt=\"Open In Colab\"/></a>"
      ]
    },
    {
      "cell_type": "markdown",
      "metadata": {
        "id": "g8HkPW_ps6gJ",
        "colab_type": "text"
      },
      "source": [
        "# Boilerplate"
      ]
    },
    {
      "cell_type": "code",
      "metadata": {
        "id": "VjQn5aaIit2-",
        "colab_type": "code",
        "colab": {}
      },
      "source": [
        "# added -q for suppressing output\n",
        "!pip install -q -U pymysql\n",
        "\n",
        "import pymysql\n",
        "import pandas as pd\n",
        "import altair as alt\n"
      ],
      "execution_count": 0,
      "outputs": []
    },
    {
      "cell_type": "markdown",
      "metadata": {
        "id": "nYWwIhzh-vax",
        "colab_type": "text"
      },
      "source": [
        "# Database connection\n",
        "\n"
      ]
    },
    {
      "cell_type": "code",
      "metadata": {
        "id": "eCEEfGBHiyQV",
        "colab_type": "code",
        "colab": {}
      },
      "source": [
        "def connect():\n",
        "    return pymysql.connect(\n",
        "        host='',\n",
        "        port=,\n",
        "        user='',\n",
        "        passwd='',\n",
        "        db='',\n",
        "        autocommit=True\n",
        "        )\n",
        "\n",
        "connection = connect()\n",
        "\n",
        "def sql_to_df(sql):\n",
        "    return pd.read_sql(sql, con=connection)\n"
      ],
      "execution_count": 0,
      "outputs": []
    },
    {
      "cell_type": "markdown",
      "metadata": {
        "id": "cjG0f33f_AgN",
        "colab_type": "text"
      },
      "source": [
        "# Database tables"
      ]
    },
    {
      "cell_type": "code",
      "metadata": {
        "id": "w_xtU-sMCSWb",
        "colab_type": "code",
        "colab": {}
      },
      "source": [
        "tables = sql_to_df(\"\"\"SHOW TABLES\"\"\")\n",
        "\n",
        "tables\n"
      ],
      "execution_count": 0,
      "outputs": []
    },
    {
      "cell_type": "markdown",
      "metadata": {
        "id": "ZeZBwZ54cVyS",
        "colab_type": "text"
      },
      "source": [
        "## Tables described"
      ]
    },
    {
      "cell_type": "code",
      "metadata": {
        "id": "nK_tYZIgbz3J",
        "colab_type": "code",
        "colab": {}
      },
      "source": [
        "sql_to_df(\"\"\"DESCRIBE c25k_user_goal\"\"\")"
      ],
      "execution_count": 0,
      "outputs": []
    },
    {
      "cell_type": "code",
      "metadata": {
        "id": "DDsZvfLIcIMl",
        "colab_type": "code",
        "colab": {}
      },
      "source": [
        "sql_to_df(\"\"\"DESCRIBE c25k_device\"\"\")"
      ],
      "execution_count": 0,
      "outputs": []
    },
    {
      "cell_type": "code",
      "metadata": {
        "id": "1l1LKQTzbsLO",
        "colab_type": "code",
        "colab": {}
      },
      "source": [
        "sql_to_df(\"\"\"DESCRIBE c25k_run\"\"\")"
      ],
      "execution_count": 0,
      "outputs": []
    },
    {
      "cell_type": "code",
      "metadata": {
        "id": "ftKTjQYLcNT1",
        "colab_type": "code",
        "colab": {}
      },
      "source": [
        "sql_to_df(\"\"\"DESCRIBE c25k_trainer_log\"\"\")"
      ],
      "execution_count": 0,
      "outputs": []
    },
    {
      "cell_type": "markdown",
      "metadata": {
        "id": "-NjE0CnyCt7J",
        "colab_type": "text"
      },
      "source": [
        "# Trainer swaps"
      ]
    },
    {
      "cell_type": "code",
      "metadata": {
        "id": "EJQMZIAjfpCi",
        "colab_type": "code",
        "colab": {}
      },
      "source": [
        "trainer_swaps = sql_to_df(\"\"\"\n",
        "    SELECT\n",
        "        new_trainer_id,\n",
        "        current_trainer_id,\n",
        "        COUNT(device_id),\n",
        "        COUNT(DISTINCT device_id)        \n",
        "    FROM\n",
        "        c25k_trainer_log\n",
        "    GROUP BY\n",
        "        new_trainer_id,\n",
        "        current_trainer_id\n",
        "        \"\"\")\n",
        "\n",
        "trainer_swaps\n"
      ],
      "execution_count": 0,
      "outputs": []
    },
    {
      "cell_type": "markdown",
      "metadata": {
        "id": "_SLIBE0fg1aK",
        "colab_type": "text"
      },
      "source": [
        "## Select only devices with incorrect trainer logs"
      ]
    },
    {
      "cell_type": "code",
      "metadata": {
        "id": "xQ6TFa_2CI5_",
        "colab_type": "code",
        "colab": {}
      },
      "source": [
        "trainer_me = sql_to_df(\"\"\"\n",
        "    SELECT DISTINCT\n",
        "        device_id,\n",
        "        current_trainer_id,\n",
        "        new_trainer_id\n",
        "    FROM \n",
        "        c25k_trainer_log\n",
        "    WHERE\n",
        "        current_trainer_id = 'me'\n",
        "        \"\"\")\n",
        "\n",
        "trainer_me.head()\n"
      ],
      "execution_count": 0,
      "outputs": []
    },
    {
      "cell_type": "code",
      "metadata": {
        "id": "MNrQGomIYr78",
        "colab_type": "code",
        "colab": {}
      },
      "source": [
        "device_os = sql_to_df(\"\"\"\n",
        "    SELECT DISTINCT\n",
        "        device_id,\n",
        "        device_os,\n",
        "        MIN(started_at)\n",
        "    FROM\n",
        "        c25k_run\n",
        "    GROUP BY\n",
        "        device_id\"\"\")\n",
        "\n",
        "device_os.head()\n"
      ],
      "execution_count": 0,
      "outputs": []
    },
    {
      "cell_type": "code",
      "metadata": {
        "id": "htv-nDyec_Bn",
        "colab_type": "code",
        "colab": {}
      },
      "source": [
        "df = pd.merge(trainer_me,\n",
        "              device_os,\n",
        "              on='device_id',\n",
        "              how='left')\n",
        "\n",
        "df.head()\n"
      ],
      "execution_count": 0,
      "outputs": []
    },
    {
      "cell_type": "code",
      "metadata": {
        "id": "VdEomsk4dM9I",
        "colab_type": "code",
        "colab": {}
      },
      "source": [
        "df.groupby('device_os')['device_id'].nunique()"
      ],
      "execution_count": 0,
      "outputs": []
    }
  ]
}
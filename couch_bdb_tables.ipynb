{
  "nbformat": 4,
  "nbformat_minor": 0,
  "metadata": {
    "colab": {
      "name": "couch_bdb_tables.ipynb",
      "version": "0.3.2",
      "provenance": [],
      "private_outputs": true,
      "collapsed_sections": [],
      "toc_visible": true,
      "include_colab_link": true
    },
    "kernelspec": {
      "name": "python3",
      "display_name": "Python 3"
    },
    "accelerator": "GPU"
  },
  "cells": [
    {
      "cell_type": "markdown",
      "metadata": {
        "id": "view-in-github",
        "colab_type": "text"
      },
      "source": [
        "<a href=\"https://colab.research.google.com/github/janilles/couch/blob/master/couch_bdb_tables.ipynb\" target=\"_parent\"><img src=\"https://colab.research.google.com/assets/colab-badge.svg\" alt=\"Open In Colab\"/></a>"
      ]
    },
    {
      "cell_type": "markdown",
      "metadata": {
        "id": "g8HkPW_ps6gJ",
        "colab_type": "text"
      },
      "source": [
        "# Boilerplate"
      ]
    },
    {
      "cell_type": "code",
      "metadata": {
        "id": "VjQn5aaIit2-",
        "colab_type": "code",
        "colab": {}
      },
      "source": [
        "# added -q for suppressing output\n",
        "!pip install -q -U pymysql\n",
        "\n",
        "import pymysql\n",
        "import pandas as pd\n"
      ],
      "execution_count": 0,
      "outputs": []
    },
    {
      "cell_type": "markdown",
      "metadata": {
        "id": "nYWwIhzh-vax",
        "colab_type": "text"
      },
      "source": [
        "# Database connection\n",
        "\n"
      ]
    },
    {
      "cell_type": "code",
      "metadata": {
        "id": "eCEEfGBHiyQV",
        "colab_type": "code",
        "colab": {}
      },
      "source": [
        "def connect():\n",
        "    return pymysql.connect(\n",
        "        host=' ',\n",
        "        port= , # number, not string\n",
        "        user=' ',\n",
        "        passwd=' ',\n",
        "        db=' ',\n",
        "        autocommit=True\n",
        "        )\n",
        "\n",
        "connection = connect()\n",
        "\n",
        "def sql_to_df(sql):\n",
        "    return pd.read_sql(sql, con=connection)\n"
      ],
      "execution_count": 0,
      "outputs": []
    },
    {
      "cell_type": "markdown",
      "metadata": {
        "id": "cjG0f33f_AgN",
        "colab_type": "text"
      },
      "source": [
        "# Database tables"
      ]
    },
    {
      "cell_type": "code",
      "metadata": {
        "id": "w_xtU-sMCSWb",
        "colab_type": "code",
        "colab": {}
      },
      "source": [
        "sql_to_df(\"\"\"SHOW TABLES\"\"\")"
      ],
      "execution_count": 0,
      "outputs": []
    },
    {
      "cell_type": "markdown",
      "metadata": {
        "id": "U9l-uxdGR0oY",
        "colab_type": "text"
      },
      "source": [
        "# Table sizes"
      ]
    },
    {
      "cell_type": "code",
      "metadata": {
        "id": "uOpuRD9RHRcd",
        "colab_type": "code",
        "colab": {}
      },
      "source": [
        "sql_to_df(\"\"\"\n",
        "\n",
        "    SELECT \n",
        "        table_schema as `Database`, \n",
        "        table_name AS `Table`, \n",
        "        round(((data_length + index_length) / 1024 / 1024), 2) `Size in MB` \n",
        "    FROM \n",
        "        information_schema.TABLES \n",
        "    WHERE\n",
        "        table_schema LIKE 'insights'\n",
        "    ORDER BY \n",
        "        (data_length + index_length) DESC;\n",
        "    \"\"\")\n"
      ],
      "execution_count": 0,
      "outputs": []
    },
    {
      "cell_type": "markdown",
      "metadata": {
        "id": "ZeZBwZ54cVyS",
        "colab_type": "text"
      },
      "source": [
        "# Tables described"
      ]
    },
    {
      "cell_type": "markdown",
      "metadata": {
        "id": "CZRvw0SgaOoJ",
        "colab_type": "text"
      },
      "source": [
        "## Goals"
      ]
    },
    {
      "cell_type": "code",
      "metadata": {
        "id": "nK_tYZIgbz3J",
        "colab_type": "code",
        "colab": {}
      },
      "source": [
        "sql_to_df(\"\"\"DESCRIBE c25k_user_goal\"\"\")"
      ],
      "execution_count": 0,
      "outputs": []
    },
    {
      "cell_type": "code",
      "metadata": {
        "id": "rxjddEtBaJdJ",
        "colab_type": "code",
        "colab": {}
      },
      "source": [
        "sql_to_df(\"\"\"SELECT * FROM c25k_user_goal LIMIT 5\"\"\")"
      ],
      "execution_count": 0,
      "outputs": []
    },
    {
      "cell_type": "markdown",
      "metadata": {
        "id": "V0gryh-wahiG",
        "colab_type": "text"
      },
      "source": [
        "## Devices"
      ]
    },
    {
      "cell_type": "code",
      "metadata": {
        "id": "DDsZvfLIcIMl",
        "colab_type": "code",
        "colab": {}
      },
      "source": [
        "sql_to_df(\"\"\"DESCRIBE c25k_device\"\"\")"
      ],
      "execution_count": 0,
      "outputs": []
    },
    {
      "cell_type": "code",
      "metadata": {
        "id": "un9t0eOqao1_",
        "colab_type": "code",
        "colab": {}
      },
      "source": [
        "sql_to_df(\"\"\"SELECT * FROM c25k_device LIMIT 5\"\"\")"
      ],
      "execution_count": 0,
      "outputs": []
    },
    {
      "cell_type": "markdown",
      "metadata": {
        "id": "ESV0UpAqasqW",
        "colab_type": "text"
      },
      "source": [
        "## Runs"
      ]
    },
    {
      "cell_type": "code",
      "metadata": {
        "id": "1l1LKQTzbsLO",
        "colab_type": "code",
        "colab": {}
      },
      "source": [
        "sql_to_df(\"\"\"DESCRIBE c25k_run\"\"\")"
      ],
      "execution_count": 0,
      "outputs": []
    },
    {
      "cell_type": "code",
      "metadata": {
        "id": "_zRL1-LiawzO",
        "colab_type": "code",
        "colab": {}
      },
      "source": [
        "sql_to_df(\"\"\"SELECT * FROM c25k_run LIMIT 5\"\"\")"
      ],
      "execution_count": 0,
      "outputs": []
    },
    {
      "cell_type": "markdown",
      "metadata": {
        "id": "e9CU6KA-a12q",
        "colab_type": "text"
      },
      "source": [
        "## Trainer logs"
      ]
    },
    {
      "cell_type": "code",
      "metadata": {
        "id": "ftKTjQYLcNT1",
        "colab_type": "code",
        "colab": {}
      },
      "source": [
        "sql_to_df(\"\"\"DESCRIBE c25k_trainer_log\"\"\")"
      ],
      "execution_count": 0,
      "outputs": []
    },
    {
      "cell_type": "code",
      "metadata": {
        "id": "X4kYba_ha7M_",
        "colab_type": "code",
        "colab": {}
      },
      "source": [
        "sql_to_df(\"\"\"SELECT * FROM c25k_trainer_log LIMIT 5\"\"\")"
      ],
      "execution_count": 0,
      "outputs": []
    },
    {
      "cell_type": "markdown",
      "metadata": {
        "id": "b3Wu5yR8bRNX",
        "colab_type": "text"
      },
      "source": [
        "## Error logs"
      ]
    },
    {
      "cell_type": "code",
      "metadata": {
        "id": "HF-5AOWTC8wg",
        "colab_type": "code",
        "colab": {}
      },
      "source": [
        "sql_to_df(\"\"\"DESCRIBE error_log\"\"\")"
      ],
      "execution_count": 0,
      "outputs": []
    },
    {
      "cell_type": "code",
      "metadata": {
        "id": "dpfqGOdlbI_X",
        "colab_type": "code",
        "colab": {}
      },
      "source": [
        "sql_to_df(\"\"\"SELECT * FROM error_log LIMIT 5\"\"\")"
      ],
      "execution_count": 0,
      "outputs": []
    }
  ]
}